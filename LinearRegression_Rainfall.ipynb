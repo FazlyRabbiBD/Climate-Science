{
  "nbformat": 4,
  "nbformat_minor": 0,
  "metadata": {
    "colab": {
      "name": "LinearRegression-Rainfall",
      "provenance": []
    },
    "kernelspec": {
      "name": "python3",
      "display_name": "Python 3"
    }
  },
  "cells": [
    {
      "cell_type": "code",
      "metadata": {
        "id": "4Tdj5C2Wfxsq",
        "colab_type": "code",
        "colab": {}
      },
      "source": [
        "import pandas as pd\n",
        "import numpy as np\n",
        "import sklearn as sk\n",
        "import sklearn.metrics as skl\n",
        "from sklearn.linear_model import LinearRegression\n",
        "import matplotlib.pyplot as plt\n",
        "import seaborn as sns\n",
        "from sklearn.model_selection import train_test_split\n",
        "from sklearn import metrics\n",
        "from sklearn.metrics import classification_report\n",
        "from sklearn.metrics import r2_score"
      ],
      "execution_count": 0,
      "outputs": []
    },
    {
      "cell_type": "code",
      "metadata": {
        "id": "2oWF10wGf7bA",
        "colab_type": "code",
        "colab": {}
      },
      "source": [
        "#reading the dataset\n",
        "df = pd.read_csv('https://raw.githubusercontent.com/fazlyrabbi77/DANGUE-Forcasting/master/dangueData.csv')"
      ],
      "execution_count": 0,
      "outputs": []
    },
    {
      "cell_type": "code",
      "metadata": {
        "id": "ta5oMYtTghLB",
        "colab_type": "code",
        "outputId": "ddba5ff8-8e99-4dd8-fcbc-45ec97311b7a",
        "colab": {
          "base_uri": "https://localhost:8080/",
          "height": 204
        }
      },
      "source": [
        "df.head()"
      ],
      "execution_count": 18,
      "outputs": [
        {
          "output_type": "execute_result",
          "data": {
            "text/html": [
              "<div>\n",
              "<style scoped>\n",
              "    .dataframe tbody tr th:only-of-type {\n",
              "        vertical-align: middle;\n",
              "    }\n",
              "\n",
              "    .dataframe tbody tr th {\n",
              "        vertical-align: top;\n",
              "    }\n",
              "\n",
              "    .dataframe thead th {\n",
              "        text-align: right;\n",
              "    }\n",
              "</style>\n",
              "<table border=\"1\" class=\"dataframe\">\n",
              "  <thead>\n",
              "    <tr style=\"text-align: right;\">\n",
              "      <th></th>\n",
              "      <th>YEAR</th>\n",
              "      <th>MONTH</th>\n",
              "      <th>MIN</th>\n",
              "      <th>MAX</th>\n",
              "      <th>HUMIDITY</th>\n",
              "      <th>RAINFALL</th>\n",
              "      <th>DANGUE</th>\n",
              "      <th>LEVEL</th>\n",
              "      <th>Unnamed: 8</th>\n",
              "      <th>Unnamed: 9</th>\n",
              "      <th>Unnamed: 10</th>\n",
              "    </tr>\n",
              "  </thead>\n",
              "  <tbody>\n",
              "    <tr>\n",
              "      <th>0</th>\n",
              "      <td>2008</td>\n",
              "      <td>1</td>\n",
              "      <td>12.993929</td>\n",
              "      <td>25.059539</td>\n",
              "      <td>78.824885</td>\n",
              "      <td>1.286636</td>\n",
              "      <td>0</td>\n",
              "      <td>1</td>\n",
              "      <td>NaN</td>\n",
              "      <td>NaN</td>\n",
              "      <td>NaN</td>\n",
              "    </tr>\n",
              "    <tr>\n",
              "      <th>1</th>\n",
              "      <td>2008</td>\n",
              "      <td>2</td>\n",
              "      <td>13.658286</td>\n",
              "      <td>26.383448</td>\n",
              "      <td>72.602956</td>\n",
              "      <td>0.687685</td>\n",
              "      <td>0</td>\n",
              "      <td>1</td>\n",
              "      <td>NaN</td>\n",
              "      <td>NaN</td>\n",
              "      <td>NaN</td>\n",
              "    </tr>\n",
              "    <tr>\n",
              "      <th>2</th>\n",
              "      <td>2008</td>\n",
              "      <td>3</td>\n",
              "      <td>20.411250</td>\n",
              "      <td>31.367558</td>\n",
              "      <td>76.903226</td>\n",
              "      <td>0.974194</td>\n",
              "      <td>0</td>\n",
              "      <td>1</td>\n",
              "      <td>NaN</td>\n",
              "      <td>NaN</td>\n",
              "      <td>NaN</td>\n",
              "    </tr>\n",
              "    <tr>\n",
              "      <th>3</th>\n",
              "      <td>2008</td>\n",
              "      <td>4</td>\n",
              "      <td>22.771889</td>\n",
              "      <td>34.031619</td>\n",
              "      <td>73.943810</td>\n",
              "      <td>0.980952</td>\n",
              "      <td>0</td>\n",
              "      <td>1</td>\n",
              "      <td>NaN</td>\n",
              "      <td>NaN</td>\n",
              "      <td>NaN</td>\n",
              "    </tr>\n",
              "    <tr>\n",
              "      <th>4</th>\n",
              "      <td>2008</td>\n",
              "      <td>5</td>\n",
              "      <td>23.945625</td>\n",
              "      <td>34.171060</td>\n",
              "      <td>77.360369</td>\n",
              "      <td>7.021198</td>\n",
              "      <td>0</td>\n",
              "      <td>1</td>\n",
              "      <td>NaN</td>\n",
              "      <td>NaN</td>\n",
              "      <td>NaN</td>\n",
              "    </tr>\n",
              "  </tbody>\n",
              "</table>\n",
              "</div>"
            ],
            "text/plain": [
              "   YEAR  MONTH        MIN  ...  Unnamed: 8  Unnamed: 9  Unnamed: 10\n",
              "0  2008      1  12.993929  ...         NaN         NaN          NaN\n",
              "1  2008      2  13.658286  ...         NaN         NaN          NaN\n",
              "2  2008      3  20.411250  ...         NaN         NaN          NaN\n",
              "3  2008      4  22.771889  ...         NaN         NaN          NaN\n",
              "4  2008      5  23.945625  ...         NaN         NaN          NaN\n",
              "\n",
              "[5 rows x 11 columns]"
            ]
          },
          "metadata": {
            "tags": []
          },
          "execution_count": 18
        }
      ]
    },
    {
      "cell_type": "code",
      "metadata": {
        "id": "Stx9au00ia1a",
        "colab_type": "code",
        "colab": {}
      },
      "source": [
        "#Dropping columns\n",
        "df.drop(['DANGUE'], axis=1,inplace=True)"
      ],
      "execution_count": 0,
      "outputs": []
    },
    {
      "cell_type": "code",
      "metadata": {
        "id": "462g6nJpobpw",
        "colab_type": "code",
        "colab": {}
      },
      "source": [
        "#dropping rows\n",
        "df.drop([120,121,122,123,124,125,126,127,128,129,130,131,132,133],inplace=True)"
      ],
      "execution_count": 0,
      "outputs": []
    },
    {
      "cell_type": "code",
      "metadata": {
        "id": "YMSuE72FBMKP",
        "colab_type": "code",
        "outputId": "f85be76d-52a0-4afb-c09d-5bdaece5e569",
        "colab": {
          "base_uri": "https://localhost:8080/",
          "height": 580
        }
      },
      "source": [
        "sns.pairplot(df, x_vars=['MONTH','MIN','MAX','HUMIDITY'], y_vars='RAINFALL', size=7, aspect=0.7, kind='reg')"
      ],
      "execution_count": 21,
      "outputs": [
        {
          "output_type": "stream",
          "text": [
            "/usr/local/lib/python3.6/dist-packages/seaborn/axisgrid.py:2065: UserWarning: The `size` parameter has been renamed to `height`; pleaes update your code.\n",
            "  warnings.warn(msg, UserWarning)\n"
          ],
          "name": "stderr"
        },
        {
          "output_type": "execute_result",
          "data": {
            "text/plain": [
              "<seaborn.axisgrid.PairGrid at 0x7f5085b93ac8>"
            ]
          },
          "metadata": {
            "tags": []
          },
          "execution_count": 21
        },
        {
          "output_type": "display_data",
          "data": {
            "image/png": "[encoded data removed]",
            "text/plain": [
              "<Figure size 1411.2x504 with 4 Axes>"
            ]
          },
          "metadata": {
            "tags": []
          }
        }
      ]
    },
    {
      "cell_type": "code",
      "metadata": {
        "id": "OQvWbvCHg-GW",
        "colab_type": "code",
        "colab": {}
      },
      "source": [
        "#Defining Features & Label\n",
        "x = df[['MONTH', 'MIN','MAX','HUMIDITY']]\n",
        "y = df['RAINFALL']"
      ],
      "execution_count": 0,
      "outputs": []
    },
    {
      "cell_type": "code",
      "metadata": {
        "id": "t6wA542tgPxr",
        "colab_type": "code",
        "outputId": "389a36e1-5f33-4406-b2b5-24147449e2d5",
        "colab": {
          "base_uri": "https://localhost:8080/",
          "height": 34
        }
      },
      "source": [
        "#Building model\n",
        "x_train, x_test, y_train, y_test = train_test_split(x, y, test_size=0.30, random_state=5)\n",
        "linreg = LinearRegression()\n",
        "linreg.fit(x, y)"
      ],
      "execution_count": 32,
      "outputs": [
        {
          "output_type": "execute_result",
          "data": {
            "text/plain": [
              "LinearRegression(copy_X=True, fit_intercept=True, n_jobs=None, normalize=False)"
            ]
          },
          "metadata": {
            "tags": []
          },
          "execution_count": 32
        }
      ]
    },
    {
      "cell_type": "code",
      "metadata": {
        "id": "GTx9Um__kPYy",
        "colab_type": "code",
        "colab": {}
      },
      "source": [
        "#defining prediction data frame \n",
        "predictions = linreg.predict(x_test)"
      ],
      "execution_count": 0,
      "outputs": []
    },
    {
      "cell_type": "code",
      "metadata": {
        "id": "I44k1l3dkgev",
        "colab_type": "code",
        "outputId": "41180cc0-b08b-438d-ae45-d2c83d387400",
        "colab": {
          "base_uri": "https://localhost:8080/",
          "height": 136
        }
      },
      "source": [
        "#model performance\n",
        "\n",
        "print('Coefficients:', linreg.coef_)\n",
        "print('Intercept:', linreg.intercept_)\n",
        "print('MAE:', metrics.mean_absolute_error(y_test, predictions))\n",
        "print('MSE:', metrics.mean_squared_error(y_test, predictions))\n",
        "print('RMSE:', np.sqrt(metrics.mean_squared_error(y_test, predictions)))\n",
        "accuracy = linreg.score(x_test,y_test)\n",
        "print('AccuracyII:',accuracy*100,'%')\n",
        "print('R2:', r2_score(y_test, predictions))\n"
      ],
      "execution_count": 43,
      "outputs": [
        {
          "output_type": "stream",
          "text": [
            "Coefficients: [-0.51874877  2.4638665  -2.53717752  0.09165783]\n",
            "Intercept: 29.27293562658023\n",
            "MAE: 2.113388852595553\n",
            "MSE: 7.030285493478454\n",
            "RMSE: 2.6514685541183503\n",
            "AccuracyII: 84.94358444384879 %\n",
            "R2: 0.8494358444384879\n"
          ],
          "name": "stdout"
        }
      ]
    },
    {
      "cell_type": "code",
      "metadata": {
        "id": "VbBO6SAMkwuF",
        "colab_type": "code",
        "colab": {}
      },
      "source": [
        "#performance plot\n",
        "plt.figure(figsize=(15,10))\n",
        "plt.tight_layout()\n",
        "sns.distplot(df['RAINFALL'])\n"
      ],
      "execution_count": 0,
      "outputs": []
    },
    {
      "cell_type": "code",
      "metadata": {
        "id": "ytuUfKhkk9yh",
        "colab_type": "code",
        "outputId": "284e09fe-a62c-45c6-9d1b-b142023f2e09",
        "colab": {
          "base_uri": "https://localhost:8080/",
          "height": 621
        }
      },
      "source": [
        "#actual vs predicted data frame\n",
        "df2 = pd.DataFrame({'Actual': y_test, 'Predicted': predictions})\n",
        "\n",
        "#actual vs predicted plot\n",
        "df2.plot(kind='bar',figsize=(60,10))\n",
        "plt.grid(which='major', linestyle='-', linewidth='0.5', color='green')\n",
        "plt.grid(which='minor', linestyle=':', linewidth='0.5', color='black')\n",
        "plt.show()"
      ],
      "execution_count": 26,
      "outputs": [
        {
          "output_type": "display_data",
          "data": {
            "image/png": "[encoded data removed]",
            "text/plain": [
              "<Figure size 4320x720 with 1 Axes>"
            ]
          },
          "metadata": {
            "tags": []
          }
        }
      ]
    },
    {
      "cell_type": "code",
      "metadata": {
        "id": "Pb6BSA19lDpE",
        "colab_type": "code",
        "outputId": "457554f2-c166-4a18-eadb-d4f8f369e0b5",
        "colab": {
          "base_uri": "https://localhost:8080/",
          "height": 34
        }
      },
      "source": [
        "#prediction\n",
        "new_observation = [[7,26,33,85]]\n",
        "linreg.predict(new_observation)"
      ],
      "execution_count": 28,
      "outputs": [
        {
          "output_type": "execute_result",
          "data": {
            "text/plain": [
              "array([13.7662808])"
            ]
          },
          "metadata": {
            "tags": []
          },
          "execution_count": 28
        }
      ]
    },
    {
      "cell_type": "code",
      "metadata": {
        "id": "48wZ4iZ4FXX5",
        "colab_type": "code",
        "outputId": "6cb95dda-6482-4808-9de0-8413f03a7bb2",
        "colab": {
          "base_uri": "https://localhost:8080/",
          "height": 296
        }
      },
      "source": [
        "sns.regplot(x=y_test, y=predictions)"
      ],
      "execution_count": 30,
      "outputs": [
        {
          "output_type": "execute_result",
          "data": {
            "text/plain": [
              "<matplotlib.axes._subplots.AxesSubplot at 0x7f5085e0d198>"
            ]
          },
          "metadata": {
            "tags": []
          },
          "execution_count": 30
        },
        {
          "output_type": "display_data",
          "data": {
            "image/png": "[encoded data removed]",
            "text/plain": [
              "<Figure size 432x288 with 1 Axes>"
            ]
          },
          "metadata": {
            "tags": []
          }
        }
      ]
    },
    {
      "cell_type": "markdown",
      "metadata": {
        "id": "I_icsasrAhPK",
        "colab_type": "text"
      },
      "source": [
        "# Ploynomial"
      ]
    },
    {
      "cell_type": "code",
      "metadata": {
        "id": "8ZtdQkzo7lWl",
        "colab_type": "code",
        "colab": {}
      },
      "source": [
        "from sklearn.preprocessing import PolynomialFeatures\n",
        "poly = PolynomialFeatures(degree=16)\n",
        "x_ = poly.fit_transform(x)\n",
        "x_test_ = poly.fit_transform(x_test)"
      ],
      "execution_count": 0,
      "outputs": []
    },
    {
      "cell_type": "code",
      "metadata": {
        "id": "ReTOyHIc96zm",
        "colab_type": "code",
        "outputId": "615a8a8e-ec52-452f-b271-a578340d70fe",
        "colab": {
          "base_uri": "https://localhost:8080/",
          "height": 51
        }
      },
      "source": [
        "# Instantiate\n",
        "lg = LinearRegression()\n",
        "\n",
        "# Fit\n",
        "lg.fit(x_, y)\n",
        "\n",
        "# Obtain coefficients\n",
        "lg.coef_"
      ],
      "execution_count": 0,
      "outputs": [
        {
          "output_type": "execute_result",
          "data": {
            "text/plain": [
              "array([ 1.92784306e-23,  1.54158585e-24,  3.60592058e-25, ...,\n",
              "       -8.27735441e-21,  1.16495143e-21, -5.97581279e-23])"
            ]
          },
          "metadata": {
            "tags": []
          },
          "execution_count": 45
        }
      ]
    },
    {
      "cell_type": "code",
      "metadata": {
        "id": "rdGF6aCk_yoO",
        "colab_type": "code",
        "colab": {}
      },
      "source": [
        "#defining prediction data frame \n",
        "predictions1 = lg.predict(x_test_)"
      ],
      "execution_count": 0,
      "outputs": []
    },
    {
      "cell_type": "code",
      "metadata": {
        "id": "qJQ982uLdnLW",
        "colab_type": "code",
        "outputId": "60d236f1-faeb-4a39-fee0-0ccbafa6a725",
        "colab": {
          "base_uri": "https://localhost:8080/",
          "height": 170
        }
      },
      "source": [
        "predictions1"
      ],
      "execution_count": 0,
      "outputs": [
        {
          "output_type": "execute_result",
          "data": {
            "text/plain": [
              "array([1.13267902e-02, 7.08492997e-02, 2.99224453e+00, 1.19022176e-01,\n",
              "       4.23900813e+00, 6.83668381e-05, 6.28248090e+00, 1.50842973e+01,\n",
              "       9.43998092e+00, 5.81584893e-01, 9.43310294e+00, 1.02278276e+00,\n",
              "       8.68030879e+00, 1.43625752e+01, 1.97968068e+00, 2.25643966e+01,\n",
              "       3.90559994e+00, 5.79338384e+00, 1.59281945e+00, 1.92365003e+01,\n",
              "       9.10797972e+00, 9.35193434e-02, 2.12342067e+01, 1.21364013e+01,\n",
              "       1.17433496e-01, 4.14403022e-01, 1.57621691e+00, 7.24015032e+00,\n",
              "       1.25522052e+01, 3.34582481e-02, 1.48301575e-02, 5.37198976e-01,\n",
              "       1.64911395e+01, 2.50801861e+00, 1.09576884e-02, 1.60100837e+01])"
            ]
          },
          "metadata": {
            "tags": []
          },
          "execution_count": 47
        }
      ]
    },
    {
      "cell_type": "code",
      "metadata": {
        "id": "Vhj6Z3jldsoO",
        "colab_type": "code",
        "outputId": "8390428b-50b3-4809-db54-88d30bf60681",
        "colab": {
          "base_uri": "https://localhost:8080/",
          "height": 238
        }
      },
      "source": [
        "x_"
      ],
      "execution_count": 0,
      "outputs": [
        {
          "output_type": "execute_result",
          "data": {
            "text/plain": [
              "array([[1.00000000e+00, 1.00000000e+00, 1.29939286e+01, ...,\n",
              "        2.24508602e+29, 7.06192743e+29, 2.22133221e+30],\n",
              "       [1.00000000e+00, 2.00000000e+00, 1.36582857e+01, ...,\n",
              "        7.87088071e+28, 2.16593827e+29, 5.96030960e+29],\n",
              "       [1.00000000e+00, 3.00000000e+00, 2.04112500e+01, ...,\n",
              "        2.48991895e+29, 6.10448545e+29, 1.49662473e+30],\n",
              "       ...,\n",
              "       [1.00000000e+00, 1.00000000e+01, 2.39358036e+01, ...,\n",
              "        9.84702748e+29, 2.63120448e+30, 7.03078876e+30],\n",
              "       [1.00000000e+00, 1.10000000e+01, 1.90810138e+01, ...,\n",
              "        3.52744474e+29, 9.23889206e+29, 2.41980053e+30],\n",
              "       [1.00000000e+00, 1.20000000e+01, 1.57760714e+01, ...,\n",
              "        5.13703157e+29, 1.56882475e+30, 4.79111536e+30]])"
            ]
          },
          "metadata": {
            "tags": []
          },
          "execution_count": 48
        }
      ]
    },
    {
      "cell_type": "code",
      "metadata": {
        "id": "bfcZwXGDdw_u",
        "colab_type": "code",
        "outputId": "c5f5d748-5e62-4d3c-df74-3fa428d47afb",
        "colab": {
          "base_uri": "https://localhost:8080/",
          "height": 238
        }
      },
      "source": [
        "x_test_"
      ],
      "execution_count": 0,
      "outputs": [
        {
          "output_type": "execute_result",
          "data": {
            "text/plain": [
              "array([[1.00000000e+00, 1.20000000e+01, 1.43167279e+01, ...,\n",
              "        2.99633397e+29, 9.02655131e+29, 2.71927727e+30],\n",
              "       [1.00000000e+00, 1.20000000e+01, 1.32735294e+01, ...,\n",
              "        4.60729163e+29, 1.55158469e+30, 5.22522828e+30],\n",
              "       [1.00000000e+00, 4.00000000e+00, 2.20592627e+01, ...,\n",
              "        2.20595442e+29, 5.03686575e+29, 1.15006984e+30],\n",
              "       ...,\n",
              "       [1.00000000e+00, 1.00000000e+01, 2.30681250e+01, ...,\n",
              "        6.28644203e+29, 1.58737960e+30, 4.00826729e+30],\n",
              "       [1.00000000e+00, 1.10000000e+01, 1.75419355e+01, ...,\n",
              "        2.64120578e+29, 6.82427210e+29, 1.76323595e+30],\n",
              "       [1.00000000e+00, 8.00000000e+00, 2.57398214e+01, ...,\n",
              "        1.24360572e+30, 3.27774780e+30, 8.63909714e+30]])"
            ]
          },
          "metadata": {
            "tags": []
          },
          "execution_count": 50
        }
      ]
    },
    {
      "cell_type": "code",
      "metadata": {
        "id": "5xFAIspx_-Kq",
        "colab_type": "code",
        "outputId": "bc48aec7-f5db-4aed-e8d2-003430cf042e",
        "colab": {
          "base_uri": "https://localhost:8080/",
          "height": 136
        }
      },
      "source": [
        "#model performance\n",
        "print('Coefficients:', lg.coef_)\n",
        "print('Intercept:', lg.intercept_)\n",
        "print('MAE:', metrics.mean_absolute_error(y_test, predictions1))\n",
        "print('MSE:', metrics.mean_squared_error(y_test, predictions1))\n",
        "print('RMSE:', np.sqrt(metrics.mean_squared_error(y_test, predictions1)))\n",
        "accuracy = lg.score(x_test_,y_test)\n",
        "print('AccuracyII:',accuracy*100,'%')"
      ],
      "execution_count": 0,
      "outputs": [
        {
          "output_type": "stream",
          "text": [
            "Coefficients: [ 1.92784306e-23  1.54158585e-24  3.60592058e-25 ... -8.27735441e-21\n",
            "  1.16495143e-21 -5.97581279e-23]\n",
            "Intercept: 2114.686480105234\n",
            "MAE: 0.0015593232701116649\n",
            "MSE: 4.154423412025368e-06\n",
            "RMSE: 0.0020382402733793107\n",
            "AccuracyII: 99.99999110267636 %\n"
          ],
          "name": "stdout"
        }
      ]
    },
    {
      "cell_type": "code",
      "metadata": {
        "id": "nl80hgw-dkAF",
        "colab_type": "code",
        "colab": {}
      },
      "source": [
        "x_test_1 = poly.fit_transform(x_test)"
      ],
      "execution_count": 0,
      "outputs": []
    },
    {
      "cell_type": "code",
      "metadata": {
        "id": "cY7DKUfOGg18",
        "colab_type": "code",
        "outputId": "c102a4f0-1ee5-4465-c95c-0b3053fba6d8",
        "colab": {
          "base_uri": "https://localhost:8080/",
          "height": 296
        }
      },
      "source": [
        "sns.regplot(y_test,predictions1, data=df, logx=True, truncate=True)"
      ],
      "execution_count": 0,
      "outputs": [
        {
          "output_type": "execute_result",
          "data": {
            "text/plain": [
              "<matplotlib.axes._subplots.AxesSubplot at 0x7f42d0a47668>"
            ]
          },
          "metadata": {
            "tags": []
          },
          "execution_count": 42
        },
        {
          "output_type": "display_data",
          "data": {
            "image/png": "[encoded data removed]",
            "text/plain": [
              "<Figure size 432x288 with 1 Axes>"
            ]
          },
          "metadata": {
            "tags": []
          }
        }
      ]
    },
    {
      "cell_type": "code",
      "metadata": {
        "id": "nUslWfs0dCJv",
        "colab_type": "code",
        "colab": {}
      },
      "source": [
        "new_observation1 = [[7,26,33,85]]\n"
      ],
      "execution_count": 0,
      "outputs": []
    },
    {
      "cell_type": "code",
      "metadata": {
        "id": "MEYmZC5xeGc2",
        "colab_type": "code",
        "colab": {}
      },
      "source": [
        "x_test_1 = poly.fit_transform(new_observation1)"
      ],
      "execution_count": 0,
      "outputs": []
    },
    {
      "cell_type": "code",
      "metadata": {
        "id": "zAU-Bq18eNTW",
        "colab_type": "code",
        "outputId": "b84146a1-90d5-4772-fcc3-948df6c8cbd8",
        "colab": {
          "base_uri": "https://localhost:8080/",
          "height": 34
        }
      },
      "source": [
        "lg.predict(x_test_1)"
      ],
      "execution_count": 0,
      "outputs": [
        {
          "output_type": "execute_result",
          "data": {
            "text/plain": [
              "array([20.90286905])"
            ]
          },
          "metadata": {
            "tags": []
          },
          "execution_count": 54
        }
      ]
    },
    {
      "cell_type": "markdown",
      "metadata": {
        "id": "azddM_xg3oZJ",
        "colab_type": "text"
      },
      "source": [
        "# XGBoost"
      ]
    },
    {
      "cell_type": "code",
      "metadata": {
        "id": "Ld8Lwp7qmG92",
        "colab_type": "code",
        "colab": {}
      },
      "source": [
        "import xgboost as xgb\n",
        "from sklearn.metrics import mean_squared_error\n",
        "xg_reg = xgb.XGBRegressor(objective ='reg:linear',gamma=0,colsample_bytree = .5, learning_rate = 0.1,scale_pos_weight = 1, min_child_weight = 1, max_depth = 3)"
      ],
      "execution_count": 0,
      "outputs": []
    },
    {
      "cell_type": "code",
      "metadata": {
        "id": "8l4zlp5IvNJk",
        "colab_type": "code",
        "outputId": "f436a9d0-429b-4ee3-ef2a-dcc4ad2aad26",
        "colab": {
          "base_uri": "https://localhost:8080/",
          "height": 221
        }
      },
      "source": [
        "xg_reg.fit(x, y)"
      ],
      "execution_count": 0,
      "outputs": [
        {
          "output_type": "stream",
          "text": [
            "[16:56:44] WARNING: /workspace/src/objective/regression_obj.cu:152: reg:linear is now deprecated in favor of reg:squarederror.\n"
          ],
          "name": "stdout"
        },
        {
          "output_type": "stream",
          "text": [
            "/usr/local/lib/python3.6/dist-packages/xgboost/core.py:587: FutureWarning: Series.base is deprecated and will be removed in a future version\n",
            "  if getattr(data, 'base', None) is not None and \\\n",
            "/usr/local/lib/python3.6/dist-packages/xgboost/core.py:588: FutureWarning: Series.base is deprecated and will be removed in a future version\n",
            "  data.base is not None and isinstance(data, np.ndarray) \\\n"
          ],
          "name": "stderr"
        },
        {
          "output_type": "execute_result",
          "data": {
            "text/plain": [
              "XGBRegressor(base_score=0.5, booster='gbtree', colsample_bylevel=1,\n",
              "             colsample_bynode=1, colsample_bytree=0.5, gamma=0,\n",
              "             importance_type='gain', learning_rate=0.1, max_delta_step=0,\n",
              "             max_depth=3, min_child_weight=1, missing=None, n_estimators=100,\n",
              "             n_jobs=1, nthread=None, objective='reg:linear', random_state=0,\n",
              "             reg_alpha=0, reg_lambda=1, scale_pos_weight=1, seed=None,\n",
              "             silent=None, subsample=1, verbosity=1)"
            ]
          },
          "metadata": {
            "tags": []
          },
          "execution_count": 222
        }
      ]
    },
    {
      "cell_type": "code",
      "metadata": {
        "id": "O39s021OvWmk",
        "colab_type": "code",
        "outputId": "5a533bf9-40e0-4977-cbde-76e5750a3235",
        "colab": {
          "base_uri": "https://localhost:8080/",
          "height": 68
        }
      },
      "source": [
        "xg_reg.fit(x_train,y_train)\n",
        "\n",
        "preds = xg_reg.predict(x_test)"
      ],
      "execution_count": 0,
      "outputs": [
        {
          "output_type": "stream",
          "text": [
            "[16:56:46] WARNING: /workspace/src/objective/regression_obj.cu:152: reg:linear is now deprecated in favor of reg:squarederror.\n"
          ],
          "name": "stdout"
        },
        {
          "output_type": "stream",
          "text": [
            "/usr/local/lib/python3.6/dist-packages/xgboost/core.py:587: FutureWarning: Series.base is deprecated and will be removed in a future version\n",
            "  if getattr(data, 'base', None) is not None and \\\n"
          ],
          "name": "stderr"
        }
      ]
    },
    {
      "cell_type": "code",
      "metadata": {
        "id": "302tDNL8vu5U",
        "colab_type": "code",
        "outputId": "51d43382-743d-4234-f650-eb2299945d7e",
        "colab": {
          "base_uri": "https://localhost:8080/",
          "height": 34
        }
      },
      "source": [
        "rmse = np.sqrt(mean_squared_error(y_test, preds))\n",
        "print(\"RMSE: %f\" % (rmse))"
      ],
      "execution_count": 0,
      "outputs": [
        {
          "output_type": "stream",
          "text": [
            "RMSE: 1.955244\n"
          ],
          "name": "stdout"
        }
      ]
    },
    {
      "cell_type": "code",
      "metadata": {
        "id": "RmAH-Nvqw9gs",
        "colab_type": "code",
        "outputId": "95468537-bdb1-404f-f054-1fa81c57fbc3",
        "colab": {
          "base_uri": "https://localhost:8080/",
          "height": 129
        }
      },
      "source": [
        "import matplotlib.pyplot as plt\n",
        "\n",
        "xgb.plot_tree(xg_reg,num_trees=4)\n",
        "plt.rcParams['figure.figsize'] = [5,5]\n",
        "plt.show()"
      ],
      "execution_count": 0,
      "outputs": [
        {
          "output_type": "display_data",
          "data": {
            "image/png": "[encoded data removed]",
            "text/plain": [
              "<Figure size 360x360 with 1 Axes>"
            ]
          },
          "metadata": {
            "tags": []
          }
        }
      ]
    },
    {
      "cell_type": "code",
      "metadata": {
        "id": "Dx6MbQybyY-2",
        "colab_type": "code",
        "outputId": "011f07d2-21de-40d4-e8e3-bc3d14281596",
        "colab": {
          "base_uri": "https://localhost:8080/",
          "height": 350
        }
      },
      "source": [
        "\n",
        "xgb.plot_importance(xg_reg)\n",
        "plt.rcParams['figure.figsize'] = [5, 5]\n",
        "plt.show()"
      ],
      "execution_count": 0,
      "outputs": [
        {
          "output_type": "display_data",
          "data": {
            "image/png": "[encoded data removed]",
            "text/plain": [
              "<Figure size 360x360 with 1 Axes>"
            ]
          },
          "metadata": {
            "tags": []
          }
        }
      ]
    },
    {
      "cell_type": "code",
      "metadata": {
        "id": "WA_-T4sOzCKE",
        "colab_type": "code",
        "outputId": "7399ae70-ebf6-4d4f-9dbb-fe9420876c66",
        "colab": {
          "base_uri": "https://localhost:8080/",
          "height": 34
        }
      },
      "source": [
        "from sklearn.metrics import explained_variance_score\n",
        "print(explained_variance_score(y_test,preds))"
      ],
      "execution_count": 0,
      "outputs": [
        {
          "output_type": "stream",
          "text": [
            "0.900083688853891\n"
          ],
          "name": "stdout"
        }
      ]
    },
    {
      "cell_type": "code",
      "metadata": {
        "id": "8hTonw-W1O-j",
        "colab_type": "code",
        "colab": {}
      },
      "source": [
        ""
      ],
      "execution_count": 0,
      "outputs": []
    }
  ]
}