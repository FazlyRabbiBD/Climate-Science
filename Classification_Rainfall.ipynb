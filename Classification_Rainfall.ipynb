{
  "nbformat": 4,
  "nbformat_minor": 0,
  "metadata": {
    "colab": {
      "name": "Classification-Rainfall",
      "provenance": []
    },
    "kernelspec": {
      "name": "python3",
      "display_name": "Python 3"
    }
  },
  "cells": [
    {
      "cell_type": "markdown",
      "metadata": {
        "id": "EvF55-CFR8Tj",
        "colab_type": "text"
      },
      "source": [
        "\n",
        "# About this Data set\n",
        "\n",
        "---\n",
        "\n",
        "Besides coffee, grunge and technology companies, one of the things that Seattle is most famous for is how often it rains. This dataset contains complete records of daily rainfall patterns from January 1st, 1948 to December 12, 2017.\n",
        "\n",
        "This data was collected at the Seattle-Tacoma International Airport. The dataset contains five columns:\n",
        "\n",
        "**DATE** = the date of the observation\n",
        "\n",
        "**PRCP** = the amount of precipitation, in inches\n",
        "\n",
        "**TMAX** = the maximum temperature for that day, in degrees Fahrenheit\n",
        "\n",
        "**TMIN** = the minimum temperature for that day, in degrees Fahrenheit\n",
        "\n",
        "**RAIN** = TRUE if rain was observed on that day, FALSE if it was not"
      ]
    },
    {
      "cell_type": "code",
      "metadata": {
        "id": "BXk4KTSrNZQ6",
        "colab_type": "code",
        "colab": {}
      },
      "source": [
        "#Loding Envieonment \n",
        "import numpy as np\n",
        "import pandas as pd\n",
        "import matplotlib.pyplot as plt\n",
        "import matplotlib.mlab as mlab\n",
        "import seaborn as sns\n",
        "\n",
        "\n",
        "from sklearn.model_selection import train_test_split\n",
        "from sklearn.linear_model import LogisticRegression\n",
        "from sklearn import svm\n",
        "from sklearn.neighbors import KNeighborsClassifier\n",
        "from sklearn.ensemble import RandomForestClassifier\n",
        "from sklearn import tree\n",
        "import graphviz\n",
        "\n",
        "from sklearn import metrics\n",
        "from sklearn.metrics import classification_report\n",
        "from sklearn.metrics import confusion_matrix,accuracy_score\n",
        "from sklearn.metrics import roc_auc_score\n",
        "from sklearn.metrics import roc_curve\n"
      ],
      "execution_count": 0,
      "outputs": []
    },
    {
      "cell_type": "code",
      "metadata": {
        "id": "INdPLSo0Nzfm",
        "colab_type": "code",
        "colab": {}
      },
      "source": [
        "#reading the dataset\n",
        "df = pd.read_csv('https://raw.githubusercontent.com/fazlyrabbi77/Climate-Science/master/seattleWeather_1948-2017.csv')"
      ],
      "execution_count": 0,
      "outputs": []
    },
    {
      "cell_type": "code",
      "metadata": {
        "id": "mgoNFMWTRr4F",
        "colab_type": "code",
        "outputId": "fc2ebb64-bc18-4eac-b9eb-e0281f03b4c1",
        "colab": {
          "base_uri": "https://localhost:8080/",
          "height": 204
        }
      },
      "source": [
        "#Showig top 5 rows\n",
        "df.head()"
      ],
      "execution_count": 3,
      "outputs": [
        {
          "output_type": "execute_result",
          "data": {
            "text/html": [
              "<div>\n",
              "<style scoped>\n",
              "    .dataframe tbody tr th:only-of-type {\n",
              "        vertical-align: middle;\n",
              "    }\n",
              "\n",
              "    .dataframe tbody tr th {\n",
              "        vertical-align: top;\n",
              "    }\n",
              "\n",
              "    .dataframe thead th {\n",
              "        text-align: right;\n",
              "    }\n",
              "</style>\n",
              "<table border=\"1\" class=\"dataframe\">\n",
              "  <thead>\n",
              "    <tr style=\"text-align: right;\">\n",
              "      <th></th>\n",
              "      <th>DATE</th>\n",
              "      <th>PRCP</th>\n",
              "      <th>TMAX</th>\n",
              "      <th>TMIN</th>\n",
              "      <th>RAIN</th>\n",
              "    </tr>\n",
              "  </thead>\n",
              "  <tbody>\n",
              "    <tr>\n",
              "      <th>0</th>\n",
              "      <td>1948-01-01</td>\n",
              "      <td>0.47</td>\n",
              "      <td>51</td>\n",
              "      <td>42</td>\n",
              "      <td>True</td>\n",
              "    </tr>\n",
              "    <tr>\n",
              "      <th>1</th>\n",
              "      <td>1948-01-02</td>\n",
              "      <td>0.59</td>\n",
              "      <td>45</td>\n",
              "      <td>36</td>\n",
              "      <td>True</td>\n",
              "    </tr>\n",
              "    <tr>\n",
              "      <th>2</th>\n",
              "      <td>1948-01-03</td>\n",
              "      <td>0.42</td>\n",
              "      <td>45</td>\n",
              "      <td>35</td>\n",
              "      <td>True</td>\n",
              "    </tr>\n",
              "    <tr>\n",
              "      <th>3</th>\n",
              "      <td>1948-01-04</td>\n",
              "      <td>0.31</td>\n",
              "      <td>45</td>\n",
              "      <td>34</td>\n",
              "      <td>True</td>\n",
              "    </tr>\n",
              "    <tr>\n",
              "      <th>4</th>\n",
              "      <td>1948-01-05</td>\n",
              "      <td>0.17</td>\n",
              "      <td>45</td>\n",
              "      <td>32</td>\n",
              "      <td>True</td>\n",
              "    </tr>\n",
              "  </tbody>\n",
              "</table>\n",
              "</div>"
            ],
            "text/plain": [
              "         DATE  PRCP  TMAX  TMIN  RAIN\n",
              "0  1948-01-01  0.47    51    42  True\n",
              "1  1948-01-02  0.59    45    36  True\n",
              "2  1948-01-03  0.42    45    35  True\n",
              "3  1948-01-04  0.31    45    34  True\n",
              "4  1948-01-05  0.17    45    32  True"
            ]
          },
          "metadata": {
            "tags": []
          },
          "execution_count": 3
        }
      ]
    },
    {
      "cell_type": "markdown",
      "metadata": {
        "id": "gYYZOrw6r609",
        "colab_type": "text"
      },
      "source": [
        "# Null Value Treatment"
      ]
    },
    {
      "cell_type": "code",
      "metadata": {
        "id": "Zva8p5UajnVr",
        "colab_type": "code",
        "colab": {}
      },
      "source": [
        "#Check Null\n",
        "df.isnull().values.any()"
      ],
      "execution_count": 0,
      "outputs": []
    },
    {
      "cell_type": "code",
      "metadata": {
        "id": "sauJET0lrZki",
        "colab_type": "code",
        "outputId": "36ba05a8-695e-42cb-d7ca-dfeb0b7d2ff5",
        "colab": {
          "base_uri": "https://localhost:8080/",
          "height": 34
        }
      },
      "source": [
        "#Count the number of Null values\n",
        "df.isnull().values.sum()"
      ],
      "execution_count": 0,
      "outputs": [
        {
          "output_type": "execute_result",
          "data": {
            "text/plain": [
              "6"
            ]
          },
          "metadata": {
            "tags": []
          },
          "execution_count": 171
        }
      ]
    },
    {
      "cell_type": "code",
      "metadata": {
        "id": "xbtCNyh1rgE-",
        "colab_type": "code",
        "outputId": "81dc4d0b-9f68-40ae-fbc9-5a882531dd1a",
        "colab": {
          "base_uri": "https://localhost:8080/",
          "height": 68
        }
      },
      "source": [
        "#Showing the null values as per attributes\n",
        "null_columns=df.columns[df.isnull().any()]\n",
        "df[null_columns].isnull().sum()"
      ],
      "execution_count": 4,
      "outputs": [
        {
          "output_type": "execute_result",
          "data": {
            "text/plain": [
              "PRCP    3\n",
              "RAIN    3\n",
              "dtype: int64"
            ]
          },
          "metadata": {
            "tags": []
          },
          "execution_count": 4
        }
      ]
    },
    {
      "cell_type": "code",
      "metadata": {
        "id": "HtCpSQ0yrmzg",
        "colab_type": "code",
        "outputId": "7e036986-a7d8-4640-c5df-9bb95a88e9ee",
        "colab": {
          "base_uri": "https://localhost:8080/",
          "height": 85
        }
      },
      "source": [
        "# Showing Null Values\n",
        "print(df[df.isnull().any(axis=1)][null_columns].head())"
      ],
      "execution_count": 5,
      "outputs": [
        {
          "output_type": "stream",
          "text": [
            "       PRCP RAIN\n",
            "18415   NaN  NaN\n",
            "18416   NaN  NaN\n",
            "21067   NaN  NaN\n"
          ],
          "name": "stdout"
        }
      ]
    },
    {
      "cell_type": "code",
      "metadata": {
        "id": "nF-6heG_rtEc",
        "colab_type": "code",
        "colab": {}
      },
      "source": [
        "# Filling Null Values \n",
        "df[\"PRCP\"].fillna( method ='ffill', inplace = True) \n",
        "df[\"RAIN\"].fillna( method ='ffill', inplace = True) "
      ],
      "execution_count": 0,
      "outputs": []
    },
    {
      "cell_type": "code",
      "metadata": {
        "id": "1G4TZjJTr0Sf",
        "colab_type": "code",
        "outputId": "9e876b56-43e0-4810-f626-9915b5d6c8ff",
        "colab": {
          "base_uri": "https://localhost:8080/",
          "height": 34
        }
      },
      "source": [
        "#Rechecking Null Values\n",
        "df.isnull().values.any()"
      ],
      "execution_count": 7,
      "outputs": [
        {
          "output_type": "execute_result",
          "data": {
            "text/plain": [
              "False"
            ]
          },
          "metadata": {
            "tags": []
          },
          "execution_count": 7
        }
      ]
    },
    {
      "cell_type": "code",
      "metadata": {
        "id": "YOuiMjq7Rt2O",
        "colab_type": "code",
        "outputId": "de2b3ca6-2fa9-4db0-8c41-26023136cb74",
        "colab": {
          "base_uri": "https://localhost:8080/",
          "height": 187
        }
      },
      "source": [
        "#Checking info about the data\n",
        "df.info()"
      ],
      "execution_count": 9,
      "outputs": [
        {
          "output_type": "stream",
          "text": [
            "<class 'pandas.core.frame.DataFrame'>\n",
            "RangeIndex: 25551 entries, 0 to 25550\n",
            "Data columns (total 5 columns):\n",
            "DATE    25551 non-null object\n",
            "PRCP    25551 non-null float64\n",
            "TMAX    25551 non-null int64\n",
            "TMIN    25551 non-null int64\n",
            "RAIN    25551 non-null bool\n",
            "dtypes: bool(1), float64(1), int64(2), object(1)\n",
            "memory usage: 823.5+ KB\n"
          ],
          "name": "stdout"
        }
      ]
    },
    {
      "cell_type": "code",
      "metadata": {
        "id": "4vlnzjkETuzy",
        "colab_type": "code",
        "outputId": "394e715e-a2f2-4d53-fcea-7bbec203e825",
        "colab": {
          "base_uri": "https://localhost:8080/",
          "height": 297
        }
      },
      "source": [
        "#Stat Descriptions\n",
        "df.describe()"
      ],
      "execution_count": 10,
      "outputs": [
        {
          "output_type": "execute_result",
          "data": {
            "text/html": [
              "<div>\n",
              "<style scoped>\n",
              "    .dataframe tbody tr th:only-of-type {\n",
              "        vertical-align: middle;\n",
              "    }\n",
              "\n",
              "    .dataframe tbody tr th {\n",
              "        vertical-align: top;\n",
              "    }\n",
              "\n",
              "    .dataframe thead th {\n",
              "        text-align: right;\n",
              "    }\n",
              "</style>\n",
              "<table border=\"1\" class=\"dataframe\">\n",
              "  <thead>\n",
              "    <tr style=\"text-align: right;\">\n",
              "      <th></th>\n",
              "      <th>PRCP</th>\n",
              "      <th>TMAX</th>\n",
              "      <th>TMIN</th>\n",
              "    </tr>\n",
              "  </thead>\n",
              "  <tbody>\n",
              "    <tr>\n",
              "      <th>count</th>\n",
              "      <td>25551.000000</td>\n",
              "      <td>25551.000000</td>\n",
              "      <td>25551.000000</td>\n",
              "    </tr>\n",
              "    <tr>\n",
              "      <th>mean</th>\n",
              "      <td>0.106209</td>\n",
              "      <td>59.544206</td>\n",
              "      <td>44.514226</td>\n",
              "    </tr>\n",
              "    <tr>\n",
              "      <th>std</th>\n",
              "      <td>0.239020</td>\n",
              "      <td>12.772984</td>\n",
              "      <td>8.892836</td>\n",
              "    </tr>\n",
              "    <tr>\n",
              "      <th>min</th>\n",
              "      <td>0.000000</td>\n",
              "      <td>4.000000</td>\n",
              "      <td>0.000000</td>\n",
              "    </tr>\n",
              "    <tr>\n",
              "      <th>25%</th>\n",
              "      <td>0.000000</td>\n",
              "      <td>50.000000</td>\n",
              "      <td>38.000000</td>\n",
              "    </tr>\n",
              "    <tr>\n",
              "      <th>50%</th>\n",
              "      <td>0.000000</td>\n",
              "      <td>58.000000</td>\n",
              "      <td>45.000000</td>\n",
              "    </tr>\n",
              "    <tr>\n",
              "      <th>75%</th>\n",
              "      <td>0.100000</td>\n",
              "      <td>69.000000</td>\n",
              "      <td>52.000000</td>\n",
              "    </tr>\n",
              "    <tr>\n",
              "      <th>max</th>\n",
              "      <td>5.020000</td>\n",
              "      <td>103.000000</td>\n",
              "      <td>71.000000</td>\n",
              "    </tr>\n",
              "  </tbody>\n",
              "</table>\n",
              "</div>"
            ],
            "text/plain": [
              "               PRCP          TMAX          TMIN\n",
              "count  25551.000000  25551.000000  25551.000000\n",
              "mean       0.106209     59.544206     44.514226\n",
              "std        0.239020     12.772984      8.892836\n",
              "min        0.000000      4.000000      0.000000\n",
              "25%        0.000000     50.000000     38.000000\n",
              "50%        0.000000     58.000000     45.000000\n",
              "75%        0.100000     69.000000     52.000000\n",
              "max        5.020000    103.000000     71.000000"
            ]
          },
          "metadata": {
            "tags": []
          },
          "execution_count": 10
        }
      ]
    },
    {
      "cell_type": "code",
      "metadata": {
        "id": "Ea-6FvaIT0ke",
        "colab_type": "code",
        "outputId": "74a88cbc-ba61-4143-a5a8-c030cb49ff16",
        "colab": {
          "base_uri": "https://localhost:8080/",
          "height": 68
        }
      },
      "source": [
        "#Status count\n",
        "df.RAIN.value_counts()\n"
      ],
      "execution_count": 11,
      "outputs": [
        {
          "output_type": "execute_result",
          "data": {
            "text/plain": [
              "False    14651\n",
              "True     10900\n",
              "Name: RAIN, dtype: int64"
            ]
          },
          "metadata": {
            "tags": []
          },
          "execution_count": 11
        }
      ]
    },
    {
      "cell_type": "code",
      "metadata": {
        "id": "ohiK102vUWl5",
        "colab_type": "code",
        "colab": {}
      },
      "source": [
        "#Replacing Rain Status in Value based Boolean \n",
        "df.RAIN= df.RAIN.replace({True:1,False:0})\n"
      ],
      "execution_count": 0,
      "outputs": []
    },
    {
      "cell_type": "code",
      "metadata": {
        "id": "GdamDTVis23a",
        "colab_type": "code",
        "outputId": "6e27c0cf-be5d-4238-87ab-3d71ad219b47",
        "colab": {
          "base_uri": "https://localhost:8080/",
          "height": 514
        }
      },
      "source": [
        "df.head(15)"
      ],
      "execution_count": 13,
      "outputs": [
        {
          "output_type": "execute_result",
          "data": {
            "text/html": [
              "<div>\n",
              "<style scoped>\n",
              "    .dataframe tbody tr th:only-of-type {\n",
              "        vertical-align: middle;\n",
              "    }\n",
              "\n",
              "    .dataframe tbody tr th {\n",
              "        vertical-align: top;\n",
              "    }\n",
              "\n",
              "    .dataframe thead th {\n",
              "        text-align: right;\n",
              "    }\n",
              "</style>\n",
              "<table border=\"1\" class=\"dataframe\">\n",
              "  <thead>\n",
              "    <tr style=\"text-align: right;\">\n",
              "      <th></th>\n",
              "      <th>DATE</th>\n",
              "      <th>PRCP</th>\n",
              "      <th>TMAX</th>\n",
              "      <th>TMIN</th>\n",
              "      <th>RAIN</th>\n",
              "    </tr>\n",
              "  </thead>\n",
              "  <tbody>\n",
              "    <tr>\n",
              "      <th>0</th>\n",
              "      <td>1948-01-01</td>\n",
              "      <td>0.47</td>\n",
              "      <td>51</td>\n",
              "      <td>42</td>\n",
              "      <td>1</td>\n",
              "    </tr>\n",
              "    <tr>\n",
              "      <th>1</th>\n",
              "      <td>1948-01-02</td>\n",
              "      <td>0.59</td>\n",
              "      <td>45</td>\n",
              "      <td>36</td>\n",
              "      <td>1</td>\n",
              "    </tr>\n",
              "    <tr>\n",
              "      <th>2</th>\n",
              "      <td>1948-01-03</td>\n",
              "      <td>0.42</td>\n",
              "      <td>45</td>\n",
              "      <td>35</td>\n",
              "      <td>1</td>\n",
              "    </tr>\n",
              "    <tr>\n",
              "      <th>3</th>\n",
              "      <td>1948-01-04</td>\n",
              "      <td>0.31</td>\n",
              "      <td>45</td>\n",
              "      <td>34</td>\n",
              "      <td>1</td>\n",
              "    </tr>\n",
              "    <tr>\n",
              "      <th>4</th>\n",
              "      <td>1948-01-05</td>\n",
              "      <td>0.17</td>\n",
              "      <td>45</td>\n",
              "      <td>32</td>\n",
              "      <td>1</td>\n",
              "    </tr>\n",
              "    <tr>\n",
              "      <th>5</th>\n",
              "      <td>1948-01-06</td>\n",
              "      <td>0.44</td>\n",
              "      <td>48</td>\n",
              "      <td>39</td>\n",
              "      <td>1</td>\n",
              "    </tr>\n",
              "    <tr>\n",
              "      <th>6</th>\n",
              "      <td>1948-01-07</td>\n",
              "      <td>0.41</td>\n",
              "      <td>50</td>\n",
              "      <td>40</td>\n",
              "      <td>1</td>\n",
              "    </tr>\n",
              "    <tr>\n",
              "      <th>7</th>\n",
              "      <td>1948-01-08</td>\n",
              "      <td>0.04</td>\n",
              "      <td>48</td>\n",
              "      <td>35</td>\n",
              "      <td>1</td>\n",
              "    </tr>\n",
              "    <tr>\n",
              "      <th>8</th>\n",
              "      <td>1948-01-09</td>\n",
              "      <td>0.12</td>\n",
              "      <td>50</td>\n",
              "      <td>31</td>\n",
              "      <td>1</td>\n",
              "    </tr>\n",
              "    <tr>\n",
              "      <th>9</th>\n",
              "      <td>1948-01-10</td>\n",
              "      <td>0.74</td>\n",
              "      <td>43</td>\n",
              "      <td>34</td>\n",
              "      <td>1</td>\n",
              "    </tr>\n",
              "    <tr>\n",
              "      <th>10</th>\n",
              "      <td>1948-01-11</td>\n",
              "      <td>0.01</td>\n",
              "      <td>42</td>\n",
              "      <td>32</td>\n",
              "      <td>1</td>\n",
              "    </tr>\n",
              "    <tr>\n",
              "      <th>11</th>\n",
              "      <td>1948-01-12</td>\n",
              "      <td>0.00</td>\n",
              "      <td>41</td>\n",
              "      <td>26</td>\n",
              "      <td>0</td>\n",
              "    </tr>\n",
              "    <tr>\n",
              "      <th>12</th>\n",
              "      <td>1948-01-13</td>\n",
              "      <td>0.00</td>\n",
              "      <td>45</td>\n",
              "      <td>29</td>\n",
              "      <td>0</td>\n",
              "    </tr>\n",
              "    <tr>\n",
              "      <th>13</th>\n",
              "      <td>1948-01-14</td>\n",
              "      <td>0.00</td>\n",
              "      <td>38</td>\n",
              "      <td>26</td>\n",
              "      <td>0</td>\n",
              "    </tr>\n",
              "    <tr>\n",
              "      <th>14</th>\n",
              "      <td>1948-01-15</td>\n",
              "      <td>0.00</td>\n",
              "      <td>34</td>\n",
              "      <td>31</td>\n",
              "      <td>0</td>\n",
              "    </tr>\n",
              "  </tbody>\n",
              "</table>\n",
              "</div>"
            ],
            "text/plain": [
              "          DATE  PRCP  TMAX  TMIN  RAIN\n",
              "0   1948-01-01  0.47    51    42     1\n",
              "1   1948-01-02  0.59    45    36     1\n",
              "2   1948-01-03  0.42    45    35     1\n",
              "3   1948-01-04  0.31    45    34     1\n",
              "4   1948-01-05  0.17    45    32     1\n",
              "5   1948-01-06  0.44    48    39     1\n",
              "6   1948-01-07  0.41    50    40     1\n",
              "7   1948-01-08  0.04    48    35     1\n",
              "8   1948-01-09  0.12    50    31     1\n",
              "9   1948-01-10  0.74    43    34     1\n",
              "10  1948-01-11  0.01    42    32     1\n",
              "11  1948-01-12  0.00    41    26     0\n",
              "12  1948-01-13  0.00    45    29     0\n",
              "13  1948-01-14  0.00    38    26     0\n",
              "14  1948-01-15  0.00    34    31     0"
            ]
          },
          "metadata": {
            "tags": []
          },
          "execution_count": 13
        }
      ]
    },
    {
      "cell_type": "markdown",
      "metadata": {
        "id": "Uqfsb6B2wNUa",
        "colab_type": "text"
      },
      "source": [
        "# Exploring the Data"
      ]
    },
    {
      "cell_type": "code",
      "metadata": {
        "id": "-D74uMBqVl_e",
        "colab_type": "code",
        "outputId": "95f96452-5f76-4570-954e-a7c7bf6e91d9",
        "colab": {
          "base_uri": "https://localhost:8080/",
          "height": 295
        }
      },
      "source": [
        "#Visualization rainy days\n",
        "sns.countplot(x='RAIN',data=df)\n",
        "plt.title('Rain Count')\n",
        "plt.show()"
      ],
      "execution_count": 14,
      "outputs": [
        {
          "output_type": "display_data",
          "data": {
            "image/png": "[encoded data removed]",
            "text/plain": [
              "<Figure size 432x288 with 1 Axes>"
            ]
          },
          "metadata": {
            "tags": []
          }
        }
      ]
    },
    {
      "cell_type": "code",
      "metadata": {
        "id": "J3lnUmhdiBI7",
        "colab_type": "code",
        "outputId": "2b527ac6-28e7-40c2-bf72-a858c74603e5",
        "colab": {
          "base_uri": "https://localhost:8080/",
          "height": 298
        }
      },
      "source": [
        "#Histogram of Dataset\n",
        "plt.figure(figsize=(20,8))\n",
        "df.hist(bins=10)\n",
        "plt.show()"
      ],
      "execution_count": 15,
      "outputs": [
        {
          "output_type": "display_data",
          "data": {
            "text/plain": [
              "<Figure size 1440x576 with 0 Axes>"
            ]
          },
          "metadata": {
            "tags": []
          }
        },
        {
          "output_type": "display_data",
          "data": {
            "image/png": "[encoded data removed]",
            "text/plain": [
              "<Figure size 432x288 with 4 Axes>"
            ]
          },
          "metadata": {
            "tags": []
          }
        }
      ]
    },
    {
      "cell_type": "code",
      "metadata": {
        "id": "_VrLdvajbJ43",
        "colab_type": "code",
        "outputId": "77df1d4c-9d6e-43ed-8d65-c160e130bfdd",
        "colab": {
          "base_uri": "https://localhost:8080/",
          "height": 437
        }
      },
      "source": [
        "#Correlation with Heatmap\n",
        "correlation = df.corr()\n",
        "plt.figure(figsize=(15, 7))\n",
        "sns.heatmap(correlation, annot=True, linewidths=0, vmin=-1, cmap=\"RdBu_r\")\n",
        "plt.show()"
      ],
      "execution_count": 16,
      "outputs": [
        {
          "output_type": "display_data",
          "data": {
            "image/png": "[encoded data removed]",
            "text/plain": [
              "<Figure size 1080x504 with 2 Axes>"
            ]
          },
          "metadata": {
            "tags": []
          }
        }
      ]
    },
    {
      "cell_type": "code",
      "metadata": {
        "id": "z1mcSQKVa87x",
        "colab_type": "code",
        "outputId": "36cc7ed7-e6ff-4a2e-b625-51a4c7faab73",
        "colab": {
          "base_uri": "https://localhost:8080/",
          "height": 173
        }
      },
      "source": [
        "df.corr()"
      ],
      "execution_count": 17,
      "outputs": [
        {
          "output_type": "execute_result",
          "data": {
            "text/html": [
              "<div>\n",
              "<style scoped>\n",
              "    .dataframe tbody tr th:only-of-type {\n",
              "        vertical-align: middle;\n",
              "    }\n",
              "\n",
              "    .dataframe tbody tr th {\n",
              "        vertical-align: top;\n",
              "    }\n",
              "\n",
              "    .dataframe thead th {\n",
              "        text-align: right;\n",
              "    }\n",
              "</style>\n",
              "<table border=\"1\" class=\"dataframe\">\n",
              "  <thead>\n",
              "    <tr style=\"text-align: right;\">\n",
              "      <th></th>\n",
              "      <th>PRCP</th>\n",
              "      <th>TMAX</th>\n",
              "      <th>TMIN</th>\n",
              "      <th>RAIN</th>\n",
              "    </tr>\n",
              "  </thead>\n",
              "  <tbody>\n",
              "    <tr>\n",
              "      <th>PRCP</th>\n",
              "      <td>1.000000</td>\n",
              "      <td>-0.226765</td>\n",
              "      <td>-0.064404</td>\n",
              "      <td>0.515177</td>\n",
              "    </tr>\n",
              "    <tr>\n",
              "      <th>TMAX</th>\n",
              "      <td>-0.226765</td>\n",
              "      <td>1.000000</td>\n",
              "      <td>0.860684</td>\n",
              "      <td>-0.389287</td>\n",
              "    </tr>\n",
              "    <tr>\n",
              "      <th>TMIN</th>\n",
              "      <td>-0.064404</td>\n",
              "      <td>0.860684</td>\n",
              "      <td>1.000000</td>\n",
              "      <td>-0.139975</td>\n",
              "    </tr>\n",
              "    <tr>\n",
              "      <th>RAIN</th>\n",
              "      <td>0.515177</td>\n",
              "      <td>-0.389287</td>\n",
              "      <td>-0.139975</td>\n",
              "      <td>1.000000</td>\n",
              "    </tr>\n",
              "  </tbody>\n",
              "</table>\n",
              "</div>"
            ],
            "text/plain": [
              "          PRCP      TMAX      TMIN      RAIN\n",
              "PRCP  1.000000 -0.226765 -0.064404  0.515177\n",
              "TMAX -0.226765  1.000000  0.860684 -0.389287\n",
              "TMIN -0.064404  0.860684  1.000000 -0.139975\n",
              "RAIN  0.515177 -0.389287 -0.139975  1.000000"
            ]
          },
          "metadata": {
            "tags": []
          },
          "execution_count": 17
        }
      ]
    },
    {
      "cell_type": "code",
      "metadata": {
        "id": "hHKeyBvYd2JG",
        "colab_type": "code",
        "outputId": "e6a003ef-700b-46d2-e351-96b524281fbf",
        "colab": {
          "base_uri": "https://localhost:8080/",
          "height": 282
        }
      },
      "source": [
        "#Boxplot of Whole dataset\n",
        "df.boxplot( )"
      ],
      "execution_count": 18,
      "outputs": [
        {
          "output_type": "execute_result",
          "data": {
            "text/plain": [
              "<matplotlib.axes._subplots.AxesSubplot at 0x7f07299a95f8>"
            ]
          },
          "metadata": {
            "tags": []
          },
          "execution_count": 18
        },
        {
          "output_type": "display_data",
          "data": {
            "image/png": "[encoded data removed]",
            "text/plain": [
              "<Figure size 432x288 with 1 Axes>"
            ]
          },
          "metadata": {
            "tags": []
          }
        }
      ]
    },
    {
      "cell_type": "code",
      "metadata": {
        "id": "oZ-KweJTbk7d",
        "colab_type": "code",
        "outputId": "d7c27d16-ade0-46e9-c151-546c4b2f2e60",
        "colab": {
          "base_uri": "https://localhost:8080/",
          "height": 346
        }
      },
      "source": [
        "#'RAIN vs PRCP BoxPlot\n",
        "bxplt = sns.boxplot(x=\"RAIN\", y='PRCP', data = df)\n",
        "bxplt.set(xlabel='RAIN', ylabel='PRCP', title='RAIN vs PRCP BoxPlot')"
      ],
      "execution_count": 19,
      "outputs": [
        {
          "output_type": "execute_result",
          "data": {
            "text/plain": [
              "[Text(0, 0.5, 'PRCP'),\n",
              " Text(0.5, 0, 'RAIN'),\n",
              " Text(0.5, 1.0, 'RAIN vs PRCP BoxPlot')]"
            ]
          },
          "metadata": {
            "tags": []
          },
          "execution_count": 19
        },
        {
          "output_type": "display_data",
          "data": {
            "image/png": "[encoded data removed]",
            "text/plain": [
              "<Figure size 432x288 with 1 Axes>"
            ]
          },
          "metadata": {
            "tags": []
          }
        }
      ]
    },
    {
      "cell_type": "code",
      "metadata": {
        "id": "PqEx1l77ca5_",
        "colab_type": "code",
        "outputId": "aed7b27f-182d-4499-aa67-660051dd02f4",
        "colab": {
          "base_uri": "https://localhost:8080/",
          "height": 810
        }
      },
      "source": [
        "#Pair Plot of the Dataset\n",
        "import seaborn as sns\n",
        "sns.pairplot(df[['TMAX', 'TMIN', 'PRCP','RAIN']], hue=\"RAIN\")\n"
      ],
      "execution_count": 20,
      "outputs": [
        {
          "output_type": "stream",
          "text": [
            "/usr/local/lib/python3.6/dist-packages/statsmodels/nonparametric/kde.py:487: RuntimeWarning: invalid value encountered in true_divide\n",
            "  binned = fast_linbin(X, a, b, gridsize) / (delta * nobs)\n",
            "/usr/local/lib/python3.6/dist-packages/statsmodels/nonparametric/kdetools.py:34: RuntimeWarning: invalid value encountered in double_scalars\n",
            "  FAC1 = 2*(np.pi*bw/RANGE)**2\n"
          ],
          "name": "stderr"
        },
        {
          "output_type": "execute_result",
          "data": {
            "text/plain": [
              "<seaborn.axisgrid.PairGrid at 0x7f0725d14048>"
            ]
          },
          "metadata": {
            "tags": []
          },
          "execution_count": 20
        },
        {
          "output_type": "display_data",
          "data": {
            "image/png": "[encoded data removed]",
            "text/plain": [
              "<Figure size 762.375x720 with 20 Axes>"
            ]
          },
          "metadata": {
            "tags": []
          }
        }
      ]
    },
    {
      "cell_type": "code",
      "metadata": {
        "id": "tufYCpSHdOHu",
        "colab_type": "code",
        "outputId": "2202677a-fef3-4092-a7a9-13a12d26e7e8",
        "colab": {
          "base_uri": "https://localhost:8080/",
          "height": 386
        }
      },
      "source": [
        "sns.lmplot(x = \"PRCP\", y = \"TMAX\", col = \"RAIN\", data = df)"
      ],
      "execution_count": 0,
      "outputs": [
        {
          "output_type": "execute_result",
          "data": {
            "text/plain": [
              "<seaborn.axisgrid.FacetGrid at 0x7fa1d4a72c88>"
            ]
          },
          "metadata": {
            "tags": []
          },
          "execution_count": 187
        },
        {
          "output_type": "display_data",
          "data": {
            "image/png": "[encoded data removed]",
            "text/plain": [
              "<Figure size 720x360 with 2 Axes>"
            ]
          },
          "metadata": {
            "tags": []
          }
        }
      ]
    },
    {
      "cell_type": "code",
      "metadata": {
        "id": "v02_qssBfAXw",
        "colab_type": "code",
        "outputId": "308918f8-1059-4881-9d16-986b3a303076",
        "colab": {
          "base_uri": "https://localhost:8080/",
          "height": 386
        }
      },
      "source": [
        "sns.lmplot(x = \"PRCP\", y = \"TMIN\", col = \"RAIN\", data = df)"
      ],
      "execution_count": 0,
      "outputs": [
        {
          "output_type": "execute_result",
          "data": {
            "text/plain": [
              "<seaborn.axisgrid.FacetGrid at 0x7fa1d3db0828>"
            ]
          },
          "metadata": {
            "tags": []
          },
          "execution_count": 188
        },
        {
          "output_type": "display_data",
          "data": {
            "image/png": "[encoded data removed]",
            "text/plain": [
              "<Figure size 720x360 with 2 Axes>"
            ]
          },
          "metadata": {
            "tags": []
          }
        }
      ]
    },
    {
      "cell_type": "markdown",
      "metadata": {
        "id": "fHcDlN7QwXSu",
        "colab_type": "text"
      },
      "source": [
        "# Machine Learning-(Supervised & Classification)- Let's Predict the Rain"
      ]
    },
    {
      "cell_type": "code",
      "metadata": {
        "id": "hHd8de8UfLua",
        "colab_type": "code",
        "colab": {}
      },
      "source": [
        "#Defining Features & Label\n",
        "x = df[['TMAX', 'TMIN', 'PRCP']]\n",
        "y = df['RAIN']"
      ],
      "execution_count": 0,
      "outputs": []
    },
    {
      "cell_type": "code",
      "metadata": {
        "id": "WvarN7XNhEk-",
        "colab_type": "code",
        "colab": {}
      },
      "source": [
        "#Split the data set\n",
        "x_train, x_test, y_train, y_test = train_test_split(x, y, test_size=0.30, random_state=2)\n"
      ],
      "execution_count": 0,
      "outputs": []
    },
    {
      "cell_type": "markdown",
      "metadata": {
        "id": "mrLYqGYj_A_b",
        "colab_type": "text"
      },
      "source": [
        "\n",
        "\n",
        " <img src=\"https://raw.githubusercontent.com/fazlyrabbi77/Climate-Science/master/test-train.webp\">"
      ]
    },
    {
      "cell_type": "markdown",
      "metadata": {
        "id": "gEbACIBuwvqf",
        "colab_type": "text"
      },
      "source": [
        "# Prediction Model 1- Logistic Regression Model"
      ]
    },
    {
      "cell_type": "code",
      "metadata": {
        "id": "QHCIs2oUwg0u",
        "colab_type": "code",
        "outputId": "37dbec5a-9eb1-4512-e489-a2652e1e3889",
        "colab": {
          "base_uri": "https://localhost:8080/",
          "height": 156
        }
      },
      "source": [
        "logreg = LogisticRegression()\n",
        "logreg.fit(x_train, y_train)"
      ],
      "execution_count": 27,
      "outputs": [
        {
          "output_type": "stream",
          "text": [
            "/usr/local/lib/python3.6/dist-packages/sklearn/linear_model/logistic.py:432: FutureWarning: Default solver will be changed to 'lbfgs' in 0.22. Specify a solver to silence this warning.\n",
            "  FutureWarning)\n"
          ],
          "name": "stderr"
        },
        {
          "output_type": "execute_result",
          "data": {
            "text/plain": [
              "LogisticRegression(C=1.0, class_weight=None, dual=False, fit_intercept=True,\n",
              "                   intercept_scaling=1, l1_ratio=None, max_iter=100,\n",
              "                   multi_class='warn', n_jobs=None, penalty='l2',\n",
              "                   random_state=None, solver='warn', tol=0.0001, verbose=0,\n",
              "                   warm_start=False)"
            ]
          },
          "metadata": {
            "tags": []
          },
          "execution_count": 27
        }
      ]
    },
    {
      "cell_type": "code",
      "metadata": {
        "id": "4o9a5MBUrGEK",
        "colab_type": "code",
        "outputId": "b92e5e2e-9700-4b9c-9871-461840aa6a2b",
        "colab": {
          "base_uri": "https://localhost:8080/",
          "height": 323
        }
      },
      "source": [
        "\n",
        "#Model performance Report\n",
        "print('Coefficients:', logreg.coef_)\n",
        "print('Intercept:', logreg.intercept_)\n",
        " \n",
        "predictions = logreg.predict(x_test)\n",
        "print('Classification Report:\\n',classification_report(y_test, predictions))\n",
        "\n",
        "print('Confusion Matrix:\\n',confusion_matrix(y_test, predictions))\n",
        "print('Accuracy Score:',accuracy_score(y_test, predictions))\n",
        "print(\"Precision:\",metrics.precision_score(y_test, predictions))\n",
        "print(\"Recall:\",metrics.recall_score(y_test,predictions ))"
      ],
      "execution_count": 28,
      "outputs": [
        {
          "output_type": "stream",
          "text": [
            "Coefficients: [[-0.16242445  0.17399516 39.91021366]]\n",
            "Intercept: [0.16349622]\n",
            "Classification Report:\n",
            "               precision    recall  f1-score   support\n",
            "\n",
            "           0       0.89      1.00      0.94      4365\n",
            "           1       1.00      0.83      0.91      3301\n",
            "\n",
            "    accuracy                           0.93      7666\n",
            "   macro avg       0.94      0.91      0.92      7666\n",
            "weighted avg       0.93      0.93      0.93      7666\n",
            "\n",
            "Confusion Matrix:\n",
            " [[4355   10]\n",
            " [ 556 2745]]\n",
            "Accuracy Score: 0.9261674928254631\n",
            "Precision: 0.9963702359346642\n",
            "Recall: 0.8315661920630112\n"
          ],
          "name": "stdout"
        }
      ]
    },
    {
      "cell_type": "markdown",
      "metadata": {
        "id": "6GaP9OAO-Jpd",
        "colab_type": "text"
      },
      "source": [
        "\n",
        " <img src=\"https://github.com/fazlyrabbi77/Climate-Science/blob/master/confusion%20matrix.png?raw=true\">\n",
        "    "
      ]
    },
    {
      "cell_type": "code",
      "metadata": {
        "id": "eLhorhkYuJ_z",
        "colab_type": "code",
        "outputId": "48169f21-3d6b-4bc9-f2b7-563708fa41c8",
        "colab": {
          "base_uri": "https://localhost:8080/",
          "height": 320
        }
      },
      "source": [
        "#visualizing Confusion Matrix\n",
        "class_names=[0,1] # name  of classes\n",
        "fig, ax = plt.subplots()\n",
        "tick_marks = np.arange(len(class_names))\n",
        "plt.xticks(tick_marks, class_names)\n",
        "plt.yticks(tick_marks, class_names)\n",
        "###create heatmap\n",
        "sns.heatmap(pd.DataFrame(confusion_matrix(y_test, predictions)), annot=True, cmap=\"YlGnBu\" ,fmt='g')\n",
        "ax.xaxis.set_label_position(\"top\")\n",
        "plt.tight_layout()\n",
        "plt.title('Confusion matrix', y=1.1)\n",
        "plt.ylabel('Actual label')\n",
        "plt.xlabel('Predicted label')\n",
        "plt.show()"
      ],
      "execution_count": 29,
      "outputs": [
        {
          "output_type": "display_data",
          "data": {
            "image/png": "[encoded data removed]",
            "text/plain": [
              "<Figure size 432x288 with 2 Axes>"
            ]
          },
          "metadata": {
            "tags": []
          }
        }
      ]
    },
    {
      "cell_type": "code",
      "metadata": {
        "id": "-X-_7vVBuSkr",
        "colab_type": "code",
        "colab": {}
      },
      "source": [
        "\n",
        "#Visualizing RoC Graph\n",
        "logit_roc_auc = roc_auc_score(y_test, logreg.predict(x_test))\n",
        "fpr, tpr, thresholds = roc_curve(y_test, logreg.predict_proba(x_test)[:,1])\n",
        "plt.figure()\n",
        "plt.plot(fpr, tpr, label='Logistic Regression (area = %0.2f)' % logit_roc_auc)\n",
        "plt.plot([0, 1], [0, 1],'r--')\n",
        "plt.xlim([0.0, 1.0])\n",
        "plt.ylim([0.0, 1.05])\n",
        "plt.xlabel('False Positive Rate')\n",
        "plt.ylabel('True Positive Rate')\n",
        "plt.title('Receiver operating characteristic (ROC)')\n",
        "plt.legend(loc=\"lower right\")\n",
        "plt.savefig('Log_ROC')\n",
        "plt.show()"
      ],
      "execution_count": 0,
      "outputs": []
    },
    {
      "cell_type": "code",
      "metadata": {
        "id": "BLpilofGuWRn",
        "colab_type": "code",
        "colab": {}
      },
      "source": [
        "df2 = pd.DataFrame({'Actual': y_test, 'Predicted': predictions})"
      ],
      "execution_count": 0,
      "outputs": []
    },
    {
      "cell_type": "code",
      "metadata": {
        "id": "Vp7ink8Hue8B",
        "colab_type": "code",
        "outputId": "8a13d868-c038-474b-b130-28bf21e07d29",
        "colab": {
          "base_uri": "https://localhost:8080/",
          "height": 287
        }
      },
      "source": [
        "df2.plot(kind='bar',figsize=(20,4))\n",
        "plt.grid(which='major', linestyle='-', linewidth='0.5', color='red')\n",
        "plt.grid(which='minor', linestyle=':', linewidth='0.5', color='black')\n",
        "plt.show()"
      ],
      "execution_count": 32,
      "outputs": [
        {
          "output_type": "display_data",
          "data": {
            "image/png": "[encoded data removed]",
            "text/plain": [
              "<Figure size 1440x288 with 1 Axes>"
            ]
          },
          "metadata": {
            "tags": []
          }
        }
      ]
    },
    {
      "cell_type": "markdown",
      "metadata": {
        "id": "vXaKnvN9xZXj",
        "colab_type": "text"
      },
      "source": [
        "# Prediction Model 2- Classification & Regression Tree (CART) Model"
      ]
    },
    {
      "cell_type": "code",
      "metadata": {
        "id": "JR4HPzAKushu",
        "colab_type": "code",
        "colab": {}
      },
      "source": [
        "# Creating the model\n",
        "#Split the data set\n",
        "x_train, x_test, y_train, y_test = train_test_split(x, y, test_size=0.40, random_state=5)\n",
        "clf = tree.DecisionTreeClassifier(max_depth=5)\n",
        "clf = clf.fit(x_train, y_train)"
      ],
      "execution_count": 0,
      "outputs": []
    },
    {
      "cell_type": "code",
      "metadata": {
        "id": "Ox8kdc5kxvO4",
        "colab_type": "code",
        "outputId": "06739e0c-531b-4016-e24b-6c7b5ea4343c",
        "colab": {
          "base_uri": "https://localhost:8080/",
          "height": 281
        }
      },
      "source": [
        "#Visualizing the decision tree\n",
        "dot_data = tree.export_graphviz(clf, out_file=None, max_depth=5, feature_names=x.columns, class_names=['Not Rain','Rain'],filled=True, rounded=True, special_characters=True)\n",
        "valgTre = graphviz.Source(dot_data) \n",
        "valgTre"
      ],
      "execution_count": 34,
      "outputs": [
        {
          "output_type": "execute_result",
          "data": {
            "text/plain": [
              "<graphviz.files.Source at 0x7f0723f94358>"
            ],
            "image/svg+xml": "<?xml version=\"1.0\" encoding=\"UTF-8\" standalone=\"no\"?>\n<!DOCTYPE svg PUBLIC \"-//W3C//DTD SVG 1.1//EN\"\n \"http://www.w3.org/Graphics/SVG/1.1/DTD/svg11.dtd\">\n<!-- Generated by graphviz version 2.40.1 (20161225.0304)\n -->\n<!-- Title: Tree Pages: 1 -->\n<svg width=\"274pt\" height=\"195pt\"\n viewBox=\"0.00 0.00 274.00 195.00\" xmlns=\"http://www.w3.org/2000/svg\" xmlns:xlink=\"http://www.w3.org/1999/xlink\">\n<g id=\"graph0\" class=\"graph\" transform=\"scale(1 1) rotate(0) translate(4 191)\">\n<title>Tree</title>\n<polygon fill=\"#ffffff\" stroke=\"transparent\" points=\"-4,4 -4,-191 270,-191 270,4 -4,4\"/>\n<!-- 0 -->\n<g id=\"node1\" class=\"node\">\n<title>0</title>\n<path fill=\"#f8e0ce\" stroke=\"#000000\" d=\"M195.5,-187C195.5,-187 70.5,-187 70.5,-187 64.5,-187 58.5,-181 58.5,-175 58.5,-175 58.5,-116 58.5,-116 58.5,-110 64.5,-104 70.5,-104 70.5,-104 195.5,-104 195.5,-104 201.5,-104 207.5,-110 207.5,-116 207.5,-116 207.5,-175 207.5,-175 207.5,-181 201.5,-187 195.5,-187\"/>\n<text text-anchor=\"start\" x=\"86.5\" y=\"-171.8\" font-family=\"Helvetica,sans-Serif\" font-size=\"14.00\" fill=\"#000000\">PRCP ≤ 0.005</text>\n<text text-anchor=\"start\" x=\"99.5\" y=\"-156.8\" font-family=\"Helvetica,sans-Serif\" font-size=\"14.00\" fill=\"#000000\">gini = 0.49</text>\n<text text-anchor=\"start\" x=\"77\" y=\"-141.8\" font-family=\"Helvetica,sans-Serif\" font-size=\"14.00\" fill=\"#000000\">samples = 15330</text>\n<text text-anchor=\"start\" x=\"66.5\" y=\"-126.8\" font-family=\"Helvetica,sans-Serif\" font-size=\"14.00\" fill=\"#000000\">value = [8760, 6570]</text>\n<text text-anchor=\"start\" x=\"80\" y=\"-111.8\" font-family=\"Helvetica,sans-Serif\" font-size=\"14.00\" fill=\"#000000\">class = Not Rain</text>\n</g>\n<!-- 1 -->\n<g id=\"node2\" class=\"node\">\n<title>1</title>\n<path fill=\"#e58139\" stroke=\"#000000\" d=\"M112,-68C112,-68 12,-68 12,-68 6,-68 0,-62 0,-56 0,-56 0,-12 0,-12 0,-6 6,0 12,0 12,0 112,0 112,0 118,0 124,-6 124,-12 124,-12 124,-56 124,-56 124,-62 118,-68 112,-68\"/>\n<text text-anchor=\"start\" x=\"32.5\" y=\"-52.8\" font-family=\"Helvetica,sans-Serif\" font-size=\"14.00\" fill=\"#000000\">gini = 0.0</text>\n<text text-anchor=\"start\" x=\"10\" y=\"-37.8\" font-family=\"Helvetica,sans-Serif\" font-size=\"14.00\" fill=\"#000000\">samples = 8760</text>\n<text text-anchor=\"start\" x=\"8\" y=\"-22.8\" font-family=\"Helvetica,sans-Serif\" font-size=\"14.00\" fill=\"#000000\">value = [8760, 0]</text>\n<text text-anchor=\"start\" x=\"9\" y=\"-7.8\" font-family=\"Helvetica,sans-Serif\" font-size=\"14.00\" fill=\"#000000\">class = Not Rain</text>\n</g>\n<!-- 0&#45;&gt;1 -->\n<g id=\"edge1\" class=\"edge\">\n<title>0&#45;&gt;1</title>\n<path fill=\"none\" stroke=\"#000000\" d=\"M106.5622,-103.9815C100.944,-95.1585 95.0012,-85.8258 89.3497,-76.9506\"/>\n<polygon fill=\"#000000\" stroke=\"#000000\" points=\"92.1416,-74.8188 83.8181,-68.2637 86.2371,-78.5787 92.1416,-74.8188\"/>\n<text text-anchor=\"middle\" x=\"78.4019\" y=\"-88.9699\" font-family=\"Helvetica,sans-Serif\" font-size=\"14.00\" fill=\"#000000\">True</text>\n</g>\n<!-- 2 -->\n<g id=\"node3\" class=\"node\">\n<title>2</title>\n<path fill=\"#399de5\" stroke=\"#000000\" d=\"M254,-68C254,-68 154,-68 154,-68 148,-68 142,-62 142,-56 142,-56 142,-12 142,-12 142,-6 148,0 154,0 154,0 254,0 254,0 260,0 266,-6 266,-12 266,-12 266,-56 266,-56 266,-62 260,-68 254,-68\"/>\n<text text-anchor=\"start\" x=\"174.5\" y=\"-52.8\" font-family=\"Helvetica,sans-Serif\" font-size=\"14.00\" fill=\"#000000\">gini = 0.0</text>\n<text text-anchor=\"start\" x=\"152\" y=\"-37.8\" font-family=\"Helvetica,sans-Serif\" font-size=\"14.00\" fill=\"#000000\">samples = 6570</text>\n<text text-anchor=\"start\" x=\"150\" y=\"-22.8\" font-family=\"Helvetica,sans-Serif\" font-size=\"14.00\" fill=\"#000000\">value = [0, 6570]</text>\n<text text-anchor=\"start\" x=\"164\" y=\"-7.8\" font-family=\"Helvetica,sans-Serif\" font-size=\"14.00\" fill=\"#000000\">class = Rain</text>\n</g>\n<!-- 0&#45;&gt;2 -->\n<g id=\"edge2\" class=\"edge\">\n<title>0&#45;&gt;2</title>\n<path fill=\"none\" stroke=\"#000000\" d=\"M159.4378,-103.9815C165.056,-95.1585 170.9988,-85.8258 176.6503,-76.9506\"/>\n<polygon fill=\"#000000\" stroke=\"#000000\" points=\"179.7629,-78.5787 182.1819,-68.2637 173.8584,-74.8188 179.7629,-78.5787\"/>\n<text text-anchor=\"middle\" x=\"187.5981\" y=\"-88.9699\" font-family=\"Helvetica,sans-Serif\" font-size=\"14.00\" fill=\"#000000\">False</text>\n</g>\n</g>\n</svg>\n"
          },
          "metadata": {
            "tags": []
          },
          "execution_count": 34
        }
      ]
    },
    {
      "cell_type": "code",
      "metadata": {
        "id": "0sn2TlcayIBs",
        "colab_type": "code",
        "outputId": "d72fb4a4-666e-4655-ad13-2a28113d5fcc",
        "colab": {
          "base_uri": "https://localhost:8080/",
          "height": 255
        }
      },
      "source": [
        "#Model Performance\n",
        "y_pred = clf.predict(x_test)\n",
        "print(classification_report(y_test, y_pred))\n",
        "print('\\nAccuracy: {0:.4f}'.format(accuracy_score(y_test, y_pred)))\n",
        "predictions = clf.predict(x_test)\n",
        "print('Confusion Matrix:\\n',confusion_matrix(y_test, predictions))\n"
      ],
      "execution_count": 35,
      "outputs": [
        {
          "output_type": "stream",
          "text": [
            "              precision    recall  f1-score   support\n",
            "\n",
            "           0       1.00      1.00      1.00      5891\n",
            "           1       1.00      1.00      1.00      4330\n",
            "\n",
            "    accuracy                           1.00     10221\n",
            "   macro avg       1.00      1.00      1.00     10221\n",
            "weighted avg       1.00      1.00      1.00     10221\n",
            "\n",
            "\n",
            "Accuracy: 1.0000\n",
            "Confusion Matrix:\n",
            " [[5891    0]\n",
            " [   0 4330]]\n"
          ],
          "name": "stdout"
        }
      ]
    },
    {
      "cell_type": "code",
      "metadata": {
        "id": "P3-xO-B50dcS",
        "colab_type": "code",
        "outputId": "6eb1a9dd-2c6d-466f-9227-2baedb7270ea",
        "colab": {
          "base_uri": "https://localhost:8080/",
          "height": 295
        }
      },
      "source": [
        "cart_roc_auc = roc_auc_score(y_test, clf.predict(x_test))\n",
        "fpr, tpr, thresholds = roc_curve(y_test, clf.predict_proba(x_test)[:,1])\n",
        "plt.figure()\n",
        "plt.plot(fpr, tpr, label='Tree Regression (area = %0.2f)' % cart_roc_auc)\n",
        "plt.plot([0, 1], [0, 1],'r--')\n",
        "plt.xlim([0.0, 1.0])\n",
        "plt.ylim([0.0, 1.05])\n",
        "plt.xlabel('False Positive Rate')\n",
        "plt.ylabel('True Positive Rate')\n",
        "plt.title('CART Receiver operating characteristic (ROC)')\n",
        "plt.legend(loc=\"lower right\")\n",
        "plt.savefig('Log_ROC')\n",
        "plt.show()\n"
      ],
      "execution_count": 36,
      "outputs": [
        {
          "output_type": "display_data",
          "data": {
            "image/png": "[encoded data removed]",
            "text/plain": [
              "<Figure size 432x288 with 1 Axes>"
            ]
          },
          "metadata": {
            "tags": []
          }
        }
      ]
    },
    {
      "cell_type": "markdown",
      "metadata": {
        "id": "rJsL1Uuuzrmv",
        "colab_type": "text"
      },
      "source": [
        "# Prediction Model 3 - Random Forest Model"
      ]
    },
    {
      "cell_type": "code",
      "metadata": {
        "id": "LPsWtk1kz8L-",
        "colab_type": "code",
        "outputId": "4d0e3291-447c-4e53-ea1d-0d96758f72bc",
        "colab": {
          "base_uri": "https://localhost:8080/",
          "height": 136
        }
      },
      "source": [
        "#Creating the model\n",
        "rf = RandomForestClassifier(n_estimators=100, max_depth=10, random_state=0)\n",
        "rf.fit(x_train, y_train)"
      ],
      "execution_count": 37,
      "outputs": [
        {
          "output_type": "execute_result",
          "data": {
            "text/plain": [
              "RandomForestClassifier(bootstrap=True, class_weight=None, criterion='gini',\n",
              "                       max_depth=10, max_features='auto', max_leaf_nodes=None,\n",
              "                       min_impurity_decrease=0.0, min_impurity_split=None,\n",
              "                       min_samples_leaf=1, min_samples_split=2,\n",
              "                       min_weight_fraction_leaf=0.0, n_estimators=100,\n",
              "                       n_jobs=None, oob_score=False, random_state=0, verbose=0,\n",
              "                       warm_start=False)"
            ]
          },
          "metadata": {
            "tags": []
          },
          "execution_count": 37
        }
      ]
    },
    {
      "cell_type": "code",
      "metadata": {
        "id": "L6FDAQ3qzopn",
        "colab_type": "code",
        "outputId": "808f34e0-fb2b-468a-f0e3-0ec62628c787",
        "colab": {
          "base_uri": "https://localhost:8080/",
          "height": 255
        }
      },
      "source": [
        "#Model Performance\n",
        "y_pred = rf.predict(x_test)\n",
        "print(classification_report(y_test, y_pred))\n",
        "print('\\nAccuracy: {0:.4f}'.format(accuracy_score(y_test, y_pred)))\n",
        "print('Confusion Matrix:\\n',confusion_matrix(y_test, y_pred))\n"
      ],
      "execution_count": 38,
      "outputs": [
        {
          "output_type": "stream",
          "text": [
            "              precision    recall  f1-score   support\n",
            "\n",
            "           0       1.00      1.00      1.00      5891\n",
            "           1       1.00      1.00      1.00      4330\n",
            "\n",
            "    accuracy                           1.00     10221\n",
            "   macro avg       1.00      1.00      1.00     10221\n",
            "weighted avg       1.00      1.00      1.00     10221\n",
            "\n",
            "\n",
            "Accuracy: 1.0000\n",
            "Confusion Matrix:\n",
            " [[5891    0]\n",
            " [   0 4330]]\n"
          ],
          "name": "stdout"
        }
      ]
    },
    {
      "cell_type": "code",
      "metadata": {
        "id": "pOAur8Sm0SSE",
        "colab_type": "code",
        "outputId": "d424ed19-4e06-4a61-a1b5-f881923acbf3",
        "colab": {
          "base_uri": "https://localhost:8080/",
          "height": 295
        }
      },
      "source": [
        "#Ploting ROC\n",
        "rf_roc_auc = roc_auc_score(y_test, rf.predict(x_test))\n",
        "fpr, tpr, thresholds = roc_curve(y_test, rf.predict_proba(x_test)[:,1])\n",
        "plt.figure()\n",
        "plt.plot(fpr, tpr, label='Tree Regression (area = %0.2f)' % rf_roc_auc)\n",
        "plt.plot([0, 1], [0, 1],'r--')\n",
        "plt.xlim([0.0, 1.0])\n",
        "plt.ylim([0.0, 1.05])\n",
        "plt.xlabel('False Positive Rate')\n",
        "plt.ylabel('True Positive Rate')\n",
        "plt.title('RF Receiver operating characteristic (ROC)')\n",
        "plt.legend(loc=\"lower right\")\n",
        "plt.savefig('RF_ROC')\n",
        "plt.show()\n"
      ],
      "execution_count": 39,
      "outputs": [
        {
          "output_type": "display_data",
          "data": {
            "image/png": "[encoded data removed]",
            "text/plain": [
              "<Figure size 432x288 with 1 Axes>"
            ]
          },
          "metadata": {
            "tags": []
          }
        }
      ]
    },
    {
      "cell_type": "markdown",
      "metadata": {
        "id": "JAWNofEH3-Cn",
        "colab_type": "text"
      },
      "source": [
        "# Prediction Model 4 - Support Vector Machine (SVM)"
      ]
    },
    {
      "cell_type": "code",
      "metadata": {
        "id": "9TsUfmna1ovQ",
        "colab_type": "code",
        "outputId": "5e1718ce-1ae7-4ef1-e157-bc1f92050041",
        "colab": {
          "base_uri": "https://localhost:8080/",
          "height": 139
        }
      },
      "source": [
        "#Creating The Model\n",
        "svmm = svm.SVC()\n",
        "svmm.fit(x_train, y_train)"
      ],
      "execution_count": 40,
      "outputs": [
        {
          "output_type": "stream",
          "text": [
            "/usr/local/lib/python3.6/dist-packages/sklearn/svm/base.py:193: FutureWarning: The default value of gamma will change from 'auto' to 'scale' in version 0.22 to account better for unscaled features. Set gamma explicitly to 'auto' or 'scale' to avoid this warning.\n",
            "  \"avoid this warning.\", FutureWarning)\n"
          ],
          "name": "stderr"
        },
        {
          "output_type": "execute_result",
          "data": {
            "text/plain": [
              "SVC(C=1.0, cache_size=200, class_weight=None, coef0=0.0,\n",
              "    decision_function_shape='ovr', degree=3, gamma='auto_deprecated',\n",
              "    kernel='rbf', max_iter=-1, probability=False, random_state=None,\n",
              "    shrinking=True, tol=0.001, verbose=False)"
            ]
          },
          "metadata": {
            "tags": []
          },
          "execution_count": 40
        }
      ]
    },
    {
      "cell_type": "code",
      "metadata": {
        "id": "7uMmTvOA1y0p",
        "colab_type": "code",
        "outputId": "637d6907-5ad4-4933-ffc1-7043b9eb8be1",
        "colab": {
          "base_uri": "https://localhost:8080/",
          "height": 238
        }
      },
      "source": [
        "#Model Performance\n",
        "pred=svmm.predict(x_test)\n",
        "print(classification_report(y_test, pred))\n",
        "print('\\nAccuracy: {0:.4f}'.format(accuracy_score(y_test, pred)))\n",
        "print(confusion_matrix(y_test,pred))\n"
      ],
      "execution_count": 41,
      "outputs": [
        {
          "output_type": "stream",
          "text": [
            "              precision    recall  f1-score   support\n",
            "\n",
            "           0       0.82      0.85      0.83      5891\n",
            "           1       0.79      0.74      0.76      4330\n",
            "\n",
            "    accuracy                           0.81     10221\n",
            "   macro avg       0.80      0.80      0.80     10221\n",
            "weighted avg       0.80      0.81      0.80     10221\n",
            "\n",
            "\n",
            "Accuracy: 0.8055\n",
            "[[5023  868]\n",
            " [1120 3210]]\n"
          ],
          "name": "stdout"
        }
      ]
    },
    {
      "cell_type": "markdown",
      "metadata": {
        "id": "peJqKi_b6If2",
        "colab_type": "text"
      },
      "source": [
        "# Prediction Model 5 - K Nearest Neighbor (KNN) Model"
      ]
    },
    {
      "cell_type": "code",
      "metadata": {
        "id": "Qj_NwNDU40r6",
        "colab_type": "code",
        "outputId": "b9943719-9487-4113-d0b0-c1578285aa36",
        "colab": {
          "base_uri": "https://localhost:8080/",
          "height": 68
        }
      },
      "source": [
        "#Creating the model\n",
        "knn = KNeighborsClassifier(n_neighbors=5, metric='euclidean')\n",
        "knn.fit(x_train, y_train)"
      ],
      "execution_count": 42,
      "outputs": [
        {
          "output_type": "execute_result",
          "data": {
            "text/plain": [
              "KNeighborsClassifier(algorithm='auto', leaf_size=30, metric='euclidean',\n",
              "                     metric_params=None, n_jobs=None, n_neighbors=5, p=2,\n",
              "                     weights='uniform')"
            ]
          },
          "metadata": {
            "tags": []
          },
          "execution_count": 42
        }
      ]
    },
    {
      "cell_type": "code",
      "metadata": {
        "id": "WO9vTIw9513s",
        "colab_type": "code",
        "outputId": "4c68f1e6-41c2-4e3e-99b2-29bdc96e3967",
        "colab": {
          "base_uri": "https://localhost:8080/",
          "height": 238
        }
      },
      "source": [
        "#Model Performance\n",
        "pred=knn.predict(x_test)\n",
        "print(classification_report(y_test, pred))\n",
        "print('\\nAccuracy: {0:.4f}'.format(accuracy_score(y_test, pred)))\n",
        "print(confusion_matrix(y_test,pred))"
      ],
      "execution_count": 43,
      "outputs": [
        {
          "output_type": "stream",
          "text": [
            "              precision    recall  f1-score   support\n",
            "\n",
            "           0       0.89      0.98      0.93      5891\n",
            "           1       0.97      0.84      0.90      4330\n",
            "\n",
            "    accuracy                           0.92     10221\n",
            "   macro avg       0.93      0.91      0.92     10221\n",
            "weighted avg       0.92      0.92      0.92     10221\n",
            "\n",
            "\n",
            "Accuracy: 0.9189\n",
            "[[5765  126]\n",
            " [ 703 3627]]\n"
          ],
          "name": "stdout"
        }
      ]
    },
    {
      "cell_type": "code",
      "metadata": {
        "id": "HNC9-Yr_6EON",
        "colab_type": "code",
        "outputId": "5ea1ad95-9a58-4f7e-f9a6-5ccd30220fb4",
        "colab": {
          "base_uri": "https://localhost:8080/",
          "height": 295
        }
      },
      "source": [
        "#Ploting ROC\n",
        "rf_roc_auc = roc_auc_score(y_test, knn.predict(x_test))\n",
        "fpr, tpr, thresholds = roc_curve(y_test, knn.predict_proba(x_test)[:,1])\n",
        "plt.figure()\n",
        "plt.plot(fpr, tpr, label='Tree Regression (area = %0.2f)' % rf_roc_auc)\n",
        "plt.plot([0, 1], [0, 1],'r--')\n",
        "plt.xlim([0.0, 1.0])\n",
        "plt.ylim([0.0, 1.05])\n",
        "plt.xlabel('False Positive Rate')\n",
        "plt.ylabel('True Positive Rate')\n",
        "plt.title('RF Receiver operating characteristic (ROC)')\n",
        "plt.legend(loc=\"lower right\")\n",
        "plt.savefig('RF_ROC')\n",
        "plt.show()\n"
      ],
      "execution_count": 44,
      "outputs": [
        {
          "output_type": "display_data",
          "data": {
            "image/png": "[encoded data removed]",
            "text/plain": [
              "<Figure size 432x288 with 1 Axes>"
            ]
          },
          "metadata": {
            "tags": []
          }
        }
      ]
    },
    {
      "cell_type": "code",
      "metadata": {
        "id": "uMDJuD9a6dcb",
        "colab_type": "code",
        "colab": {
          "base_uri": "https://localhost:8080/",
          "height": 700
        },
        "outputId": "52af675b-29bd-4bfe-bdc8-660f25e42527"
      },
      "source": [
        "\n",
        "\n",
        "X = df[['TMAX', 'TMIN', 'PRCP']]\n",
        "y = df['RAIN']\n",
        "#X=wine.data\n",
        "#y= wine.target\n",
        "\n",
        "LoGscores = []\n",
        "DTscores = []\n",
        "RFscores = []\n",
        "SVscores = []\n",
        "\n",
        "\n",
        "############### DT ###########################################\n",
        "from sklearn.linear_model import LogisticRegression\n",
        "logreg = LogisticRegression()\n",
        "############### DT ###########################################\n",
        "from sklearn import tree\n",
        "DTclf=tree.DecisionTreeClassifier()\n",
        "\n",
        "############### RF ############################################\n",
        "from sklearn.ensemble import RandomForestClassifier\n",
        "RFclf=RandomForestClassifier(n_estimators=11)\n",
        "\n",
        "######################### SVM ##################################\n",
        "from sklearn.svm import SVC\n",
        "SVclf = SVC(kernel='poly', degree=4)\n",
        "\n",
        "from sklearn.model_selection import KFold\n",
        "cv = KFold(n_splits=5, random_state=1, shuffle=True)\n",
        "for train_index, test_index in cv.split(X):\n",
        "    print(\"Train Index: \", train_index, \"\\n\")\n",
        "    print(\"Test Index: \", test_index)\n",
        "\n",
        "   # X_train, X_test, y_train, y_test = X[train_index], X[test_index], y[train_index], y[test_index]\n",
        "    X_train, X_test, y_train, y_test = train_test_split(X, y, test_size=0.30, random_state=2)\n",
        "    ############# for LoG #################\n",
        "    logreg.fit(X_train, y_train)\n",
        "    LoGscores.append(logreg.score(X_test, y_test))\n",
        "    ############# for DT #################\n",
        "    DTclf.fit(X_train, y_train)\n",
        "    DTscores.append(DTclf.score(X_test, y_test))\n",
        "    ############# for RF #################\n",
        "    RFclf.fit(X_train, y_train)\n",
        "    RFscores.append(RFclf.score(X_test, y_test))\n",
        "    ############# For SVM #################\n",
        "    SVclf.fit(X_train, y_train)\n",
        "    SVscores.append(SVclf.score(X_test, y_test))\n",
        "    \n",
        "\n",
        "\n",
        "import numpy as np\n",
        "print('Logistic Reg.  scores:', np.mean(LoGscores))\n",
        "print('Decision Tree scores:', np.mean(DTscores))\n",
        "print('Random Forest scores:', np.mean(RFscores))\n",
        "print('SVM scores:', np.mean(SVscores))"
      ],
      "execution_count": 47,
      "outputs": [
        {
          "output_type": "stream",
          "text": [
            "Train Index:  [    1     3     4 ... 25548 25549 25550] \n",
            "\n",
            "Test Index:  [    0     2    11 ... 25537 25546 25547]\n"
          ],
          "name": "stdout"
        },
        {
          "output_type": "stream",
          "text": [
            "/usr/local/lib/python3.6/dist-packages/sklearn/linear_model/logistic.py:432: FutureWarning: Default solver will be changed to 'lbfgs' in 0.22. Specify a solver to silence this warning.\n",
            "  FutureWarning)\n",
            "/usr/local/lib/python3.6/dist-packages/sklearn/svm/base.py:193: FutureWarning: The default value of gamma will change from 'auto' to 'scale' in version 0.22 to account better for unscaled features. Set gamma explicitly to 'auto' or 'scale' to avoid this warning.\n",
            "  \"avoid this warning.\", FutureWarning)\n"
          ],
          "name": "stderr"
        },
        {
          "output_type": "stream",
          "text": [
            "Train Index:  [    0     1     2 ... 25548 25549 25550] \n",
            "\n",
            "Test Index:  [    4     5     6 ... 25539 25543 25545]\n"
          ],
          "name": "stdout"
        },
        {
          "output_type": "stream",
          "text": [
            "/usr/local/lib/python3.6/dist-packages/sklearn/linear_model/logistic.py:432: FutureWarning: Default solver will be changed to 'lbfgs' in 0.22. Specify a solver to silence this warning.\n",
            "  FutureWarning)\n",
            "/usr/local/lib/python3.6/dist-packages/sklearn/svm/base.py:193: FutureWarning: The default value of gamma will change from 'auto' to 'scale' in version 0.22 to account better for unscaled features. Set gamma explicitly to 'auto' or 'scale' to avoid this warning.\n",
            "  \"avoid this warning.\", FutureWarning)\n"
          ],
          "name": "stderr"
        },
        {
          "output_type": "stream",
          "text": [
            "Train Index:  [    0     1     2 ... 25547 25549 25550] \n",
            "\n",
            "Test Index:  [    3     8    17 ... 25542 25544 25548]\n"
          ],
          "name": "stdout"
        },
        {
          "output_type": "stream",
          "text": [
            "/usr/local/lib/python3.6/dist-packages/sklearn/linear_model/logistic.py:432: FutureWarning: Default solver will be changed to 'lbfgs' in 0.22. Specify a solver to silence this warning.\n",
            "  FutureWarning)\n",
            "/usr/local/lib/python3.6/dist-packages/sklearn/svm/base.py:193: FutureWarning: The default value of gamma will change from 'auto' to 'scale' in version 0.22 to account better for unscaled features. Set gamma explicitly to 'auto' or 'scale' to avoid this warning.\n",
            "  \"avoid this warning.\", FutureWarning)\n"
          ],
          "name": "stderr"
        },
        {
          "output_type": "stream",
          "text": [
            "Train Index:  [    0     2     3 ... 25547 25548 25549] \n",
            "\n",
            "Test Index:  [    1     9    10 ... 25538 25540 25550]\n"
          ],
          "name": "stdout"
        },
        {
          "output_type": "stream",
          "text": [
            "/usr/local/lib/python3.6/dist-packages/sklearn/linear_model/logistic.py:432: FutureWarning: Default solver will be changed to 'lbfgs' in 0.22. Specify a solver to silence this warning.\n",
            "  FutureWarning)\n",
            "/usr/local/lib/python3.6/dist-packages/sklearn/svm/base.py:193: FutureWarning: The default value of gamma will change from 'auto' to 'scale' in version 0.22 to account better for unscaled features. Set gamma explicitly to 'auto' or 'scale' to avoid this warning.\n",
            "  \"avoid this warning.\", FutureWarning)\n"
          ],
          "name": "stderr"
        },
        {
          "output_type": "stream",
          "text": [
            "Train Index:  [    0     1     2 ... 25547 25548 25550] \n",
            "\n",
            "Test Index:  [   14    15    18 ... 25533 25541 25549]\n"
          ],
          "name": "stdout"
        },
        {
          "output_type": "stream",
          "text": [
            "/usr/local/lib/python3.6/dist-packages/sklearn/linear_model/logistic.py:432: FutureWarning: Default solver will be changed to 'lbfgs' in 0.22. Specify a solver to silence this warning.\n",
            "  FutureWarning)\n",
            "/usr/local/lib/python3.6/dist-packages/sklearn/svm/base.py:193: FutureWarning: The default value of gamma will change from 'auto' to 'scale' in version 0.22 to account better for unscaled features. Set gamma explicitly to 'auto' or 'scale' to avoid this warning.\n",
            "  \"avoid this warning.\", FutureWarning)\n"
          ],
          "name": "stderr"
        },
        {
          "output_type": "stream",
          "text": [
            "Logistic Reg.  scores: 0.9261674928254632\n",
            "Decision Tree scores: 1.0\n",
            "Random Forest scores: 1.0\n",
            "SVM scores: 0.9996086616227498\n"
          ],
          "name": "stdout"
        }
      ]
    }
  ]
}